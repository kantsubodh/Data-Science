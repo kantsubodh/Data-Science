{
 "cells": [
  {
   "cell_type": "markdown",
   "metadata": {},
   "source": [
    "# HUMAN ACTIVITY RECOGNITION \n",
    "![HAR](HAR.jpg)"
   ]
  },
  {
   "cell_type": "markdown",
   "metadata": {},
   "source": [
    "# Table of Content\n",
    "\n",
    "1. [Problem Statement](#section1)<br>\n",
    "2. [Data Loading and Description](#section2)\n",
    "    - 2.1 [Data Background](#section201) \n",
    "    - 2.2 [Feture Selection](#section202)\n",
    "    - 2.3 [Importing Packages](#section203)\n",
    "    - 2.4 [Loading Dataset](#section204)<br> \n",
    "3. [Data Cleaning](#section3)\n",
    "    - 3.1 [Check for Duplicates](#section301)\n",
    "    - 3.2 [Check for NaN/Null values](#section302)\n",
    "    - 3.3 [Check for imbalance data](#section303) <br>\n",
    "4. [Exploratory Data Analysis](#section4)\n",
    "    - 4.1 [Distribution of exploratory variable/ features](#section401)\n",
    "    - 4.2 [Stationary and Moving activity plot](#section402)\n",
    "    - 4.3 [Plotting - Position of Gravity Acceleration component](#section403)\n",
    "    - 4.4 [Finding the Correlation/ Relationships between the features](#section404)\n",
    "5. [Fitting some Classification models](#section5)\n",
    "    - 5.1 [Preparing X and y using pandas](#section501)<br>\n",
    "    - 5.2 [Splitting X and y into training and test datasets](#section502)<br>\n",
    "    - 5.3 [Evaluating with multiple classifications models](#section503)<br>\n",
    "6. [Model evaluation](#section6)<br>\n",
    "7. [Feature Selection](#section7)<br>\n",
    "8. [Conclusion](#section8)<br>"
   ]
  },
  {
   "cell_type": "markdown",
   "metadata": {},
   "source": [
    "## 1. Problem Statement <a id=section1></a> \n",
    "\n",
    "We have to build a model that predicts the human activities such as _Walking, Walking_Upstairs, Walking_Downstairs, Sitting, Standing or Laying_ based on smartphones sensors data.\n",
    "- We want to find a function that given data from smartphone sensors __predicts the activity of person__.\n",
    "\n",
    "- Visualize the __relationship__ between the _features_ and the _response_ using different plots."
   ]
  },
  {
   "cell_type": "markdown",
   "metadata": {},
   "source": [
    "## 2. Data Loading and Description <a id=section2></a> \n",
    "\n",
    "__2.1 Data Background__ <a id=section201></a><br>\n",
    "This dataset is collected from 30 persons(referred as subjects in this dataset), performing different activities with a smartphone to their waists. The data is recorded with the help of sensors (accelerometer and Gyroscope) in that smartphone. This experiment was video recorded to label the data manually.Data is collected from the http://archive.ics.uci.edu/ml/datasets/Smartphone-Based+Recognition+of+Human+Activities+and+Postural+Transitions# website."
   ]
  },
  {
   "cell_type": "markdown",
   "metadata": {},
   "source": [
    "__2.2 Feature Selection__ <a id=section202></a> \n",
    "\n",
    "The features selected for this database come from the accelerometer and gyroscope 3-axial raw signals tAcc-XYZ and tGyro-XYZ. These time domain signals (prefix 't' to denote time) were captured at a constant rate of 50 Hz. Then they were filtered using a median filter and a 3rd order low pass Butterworth filter with a corner frequency of 20 Hz to remove noise. Similarly, the acceleration signal was then separated into body and gravity acceleration signals (tBodyAcc-XYZ and tGravityAcc-XYZ) using another low pass Butterworth filter with a corner frequency of 0.3 Hz. \n",
    "\n",
    "Subsequently, the body linear acceleration and angular velocity were derived in time to obtain Jerk signals (tBodyAccJerk-XYZ and tBodyGyroJerk-XYZ). Also the magnitude of these three-dimensional signals were calculated using the Euclidean norm (tBodyAccMag, tGravityAccMag, tBodyAccJerkMag, tBodyGyroMag, tBodyGyroJerkMag). \n",
    "\n",
    "Finally a Fast Fourier Transform (FFT) was applied to some of these signals producing fBodyAcc-XYZ, fBodyAccJerk-XYZ, fBodyGyro-XYZ, fBodyAccJerkMag, fBodyGyroMag, fBodyGyroJerkMag. (Note the 'f' to indicate frequency domain signals). \n",
    "\n",
    "__These signals were used to estimate variables of the feature vector for each pattern:\n",
    "'-XYZ' is used to denote 3-axial signals in the X, Y and Z directions.__\n",
    "- tBodyAcc-XYZ\n",
    "- tGravityAcc-XYZ\n",
    "- tBodyAccJerk-XYZ\n",
    "- tBodyGyro-XYZ\n",
    "- tBodyGyroJerk-XYZ\n",
    "- tBodyAccMag\n",
    "- tGravityAccMag\n",
    "- tBodyAccJerkMag\n",
    "- tBodyGyroMag\n",
    "- tBodyGyroJerkMag\n",
    "- fBodyAcc-XYZ\n",
    "- fBodyAccJerk-XYZ\n",
    "- fBodyGyro-XYZ\n",
    "- fBodyAccMag\n",
    "- fBodyAccJerkMag\n",
    "- fBodyGyroMag\n",
    "- fBodyGyroJerkMag\n",
    "\n",
    "__The set of variables that were estimated from these signals are:__\n",
    "\n",
    "- mean(): Mean value\n",
    "- std(): Standard deviation\n",
    "- mad(): Median absolute deviation \n",
    "- max(): Largest value in array\n",
    "- min(): Smallest value in array\n",
    "- sma(): Signal magnitude area\n",
    "- energy(): Energy measure. Sum of the squares divided by the number of values. \n",
    "- iqr(): Interquartile range \n",
    "- entropy(): Signal entropy\n",
    "- arCoeff(): Autorregresion coefficients with Burg order equal to 4\n",
    "- correlation(): correlation coefficient between two signals\n",
    "- maxInds(): index of the frequency component with largest magnitude\n",
    "- meanFreq(): Weighted average of the frequency components to obtain a mean frequency\n",
    "- skewness(): skewness of the frequency domain signal \n",
    "- kurtosis(): kurtosis of the frequency domain signal \n",
    "- bandsEnergy(): Energy of a frequency interval within the 64 bins of the FFT of each window.\n",
    "- angle(): Angle between to vectors.\n",
    "\n",
    "__Additional vectors obtained by averaging the signals in a signal window sample. These are used on the angle() variable:__\n",
    "\n",
    "- gravityMean\n",
    "- tBodyAccMean\n",
    "- tBodyAccJerkMean\n",
    "- tBodyGyroMean\n",
    "- tBodyGyroJerkMean\n",
    "\n",
    "__For each record it is provided:__\n",
    "- Triaxial acceleration from the accelerometer (total acceleration) and the estimated body acceleration.\n",
    "- Triaxial Angular velocity from the gyroscope. \n",
    "- A 563-feature vector with time and frequency domain variables. \n",
    "- Its activity label."
   ]
  },
  {
   "cell_type": "markdown",
   "metadata": {},
   "source": [
    "__2.3 Importing Packages__ <a id=section203></a> "
   ]
  },
  {
   "cell_type": "code",
   "execution_count": 1,
   "metadata": {},
   "outputs": [],
   "source": [
    "import itertools\n",
    "import time\n",
    "import numpy as np\n",
    "import pandas as pd\n",
    "from datetime import datetime\n",
    "import matplotlib.pyplot as plt\n",
    "plt.rcParams[\"font.family\"] = 'DejaVu Sans'\n",
    "import seaborn as sns\n",
    "\n",
    "# To be able to save images on Machine\n",
    "import matplotlib\n",
    "from matplotlib import pyplot\n",
    "%matplotlib inline   \n",
    "\n",
    "#from sklearn.manifold import TSNE\n",
    "from sklearn.preprocessing import OneHotEncoder, LabelEncoder,StandardScaler\n",
    "from sklearn.metrics import confusion_matrix\n",
    "from sklearn import metrics\n",
    "from sklearn.model_selection import GridSearchCV, train_test_split\n",
    "from sklearn.svm import LinearSVC, SVC\n",
    "from sklearn.tree import DecisionTreeClassifier\n",
    "from sklearn.ensemble import RandomForestClassifier, GradientBoostingClassifier\n",
    "from sklearn.decomposition import PCA\n",
    "from sklearn.naive_bayes import GaussianNB\n",
    "from sklearn.linear_model import LogisticRegression\n",
    "from sklearn.metrics import precision_recall_fscore_support as error_metric\n",
    "from sklearn.neighbors import KNeighborsClassifier\n",
    "from sklearn.feature_selection import VarianceThreshold"
   ]
  },
  {
   "cell_type": "markdown",
   "metadata": {},
   "source": [
    "__2.4 Loding Dataset__ <a id=section204></a> "
   ]
  },
  {
   "cell_type": "code",
   "execution_count": 2,
   "metadata": {},
   "outputs": [
    {
     "name": "stdout",
     "output_type": "stream",
     "text": [
      "(3609, 563)\n"
     ]
    },
    {
     "data": {
      "text/html": [
       "<div>\n",
       "<style scoped>\n",
       "    .dataframe tbody tr th:only-of-type {\n",
       "        vertical-align: middle;\n",
       "    }\n",
       "\n",
       "    .dataframe tbody tr th {\n",
       "        vertical-align: top;\n",
       "    }\n",
       "\n",
       "    .dataframe thead th {\n",
       "        text-align: right;\n",
       "    }\n",
       "</style>\n",
       "<table border=\"1\" class=\"dataframe\">\n",
       "  <thead>\n",
       "    <tr style=\"text-align: right;\">\n",
       "      <th></th>\n",
       "      <th>rn</th>\n",
       "      <th>activity</th>\n",
       "      <th>tBodyAcc.mean.X</th>\n",
       "      <th>tBodyAcc.mean.Y</th>\n",
       "      <th>tBodyAcc.mean.Z</th>\n",
       "      <th>tBodyAcc.std.X</th>\n",
       "      <th>tBodyAcc.std.Y</th>\n",
       "      <th>tBodyAcc.std.Z</th>\n",
       "      <th>tBodyAcc.mad.X</th>\n",
       "      <th>tBodyAcc.mad.Y</th>\n",
       "      <th>...</th>\n",
       "      <th>fBodyBodyGyroJerkMag.meanFreq</th>\n",
       "      <th>fBodyBodyGyroJerkMag.skewness</th>\n",
       "      <th>fBodyBodyGyroJerkMag.kurtosis</th>\n",
       "      <th>angle.tBodyAccMean.gravity</th>\n",
       "      <th>angle.tBodyAccJerkMean.gravityMean</th>\n",
       "      <th>angle.tBodyGyroMean.gravityMean</th>\n",
       "      <th>angle.tBodyGyroJerkMean.gravityMean</th>\n",
       "      <th>angle.X.gravityMean</th>\n",
       "      <th>angle.Y.gravityMean</th>\n",
       "      <th>angle.Z.gravityMean</th>\n",
       "    </tr>\n",
       "  </thead>\n",
       "  <tbody>\n",
       "    <tr>\n",
       "      <th>0</th>\n",
       "      <td>7</td>\n",
       "      <td>STANDING</td>\n",
       "      <td>0.279</td>\n",
       "      <td>-0.0196</td>\n",
       "      <td>-0.1100</td>\n",
       "      <td>-0.997</td>\n",
       "      <td>-0.967</td>\n",
       "      <td>-0.983</td>\n",
       "      <td>-0.997</td>\n",
       "      <td>-0.966</td>\n",
       "      <td>...</td>\n",
       "      <td>0.146</td>\n",
       "      <td>-0.217</td>\n",
       "      <td>-0.5640</td>\n",
       "      <td>-0.2130</td>\n",
       "      <td>-0.2310</td>\n",
       "      <td>0.0146</td>\n",
       "      <td>-0.190</td>\n",
       "      <td>-0.852</td>\n",
       "      <td>0.182</td>\n",
       "      <td>-0.0430</td>\n",
       "    </tr>\n",
       "    <tr>\n",
       "      <th>1</th>\n",
       "      <td>11</td>\n",
       "      <td>STANDING</td>\n",
       "      <td>0.277</td>\n",
       "      <td>-0.0127</td>\n",
       "      <td>-0.1030</td>\n",
       "      <td>-0.995</td>\n",
       "      <td>-0.973</td>\n",
       "      <td>-0.985</td>\n",
       "      <td>-0.996</td>\n",
       "      <td>-0.974</td>\n",
       "      <td>...</td>\n",
       "      <td>0.121</td>\n",
       "      <td>0.349</td>\n",
       "      <td>0.0577</td>\n",
       "      <td>0.0807</td>\n",
       "      <td>0.5960</td>\n",
       "      <td>-0.4760</td>\n",
       "      <td>0.116</td>\n",
       "      <td>-0.852</td>\n",
       "      <td>0.188</td>\n",
       "      <td>-0.0347</td>\n",
       "    </tr>\n",
       "    <tr>\n",
       "      <th>2</th>\n",
       "      <td>14</td>\n",
       "      <td>STANDING</td>\n",
       "      <td>0.277</td>\n",
       "      <td>-0.0147</td>\n",
       "      <td>-0.1070</td>\n",
       "      <td>-0.999</td>\n",
       "      <td>-0.991</td>\n",
       "      <td>-0.993</td>\n",
       "      <td>-0.999</td>\n",
       "      <td>-0.991</td>\n",
       "      <td>...</td>\n",
       "      <td>0.740</td>\n",
       "      <td>-0.564</td>\n",
       "      <td>-0.7660</td>\n",
       "      <td>0.1060</td>\n",
       "      <td>-0.0903</td>\n",
       "      <td>-0.1320</td>\n",
       "      <td>0.499</td>\n",
       "      <td>-0.850</td>\n",
       "      <td>0.189</td>\n",
       "      <td>-0.0351</td>\n",
       "    </tr>\n",
       "    <tr>\n",
       "      <th>3</th>\n",
       "      <td>15</td>\n",
       "      <td>STANDING</td>\n",
       "      <td>0.298</td>\n",
       "      <td>0.0271</td>\n",
       "      <td>-0.0617</td>\n",
       "      <td>-0.989</td>\n",
       "      <td>-0.817</td>\n",
       "      <td>-0.902</td>\n",
       "      <td>-0.989</td>\n",
       "      <td>-0.794</td>\n",
       "      <td>...</td>\n",
       "      <td>0.131</td>\n",
       "      <td>0.208</td>\n",
       "      <td>-0.0681</td>\n",
       "      <td>0.0623</td>\n",
       "      <td>-0.0587</td>\n",
       "      <td>0.0312</td>\n",
       "      <td>-0.269</td>\n",
       "      <td>-0.731</td>\n",
       "      <td>0.283</td>\n",
       "      <td>0.0364</td>\n",
       "    </tr>\n",
       "    <tr>\n",
       "      <th>4</th>\n",
       "      <td>20</td>\n",
       "      <td>STANDING</td>\n",
       "      <td>0.276</td>\n",
       "      <td>-0.0170</td>\n",
       "      <td>-0.1110</td>\n",
       "      <td>-0.998</td>\n",
       "      <td>-0.991</td>\n",
       "      <td>-0.998</td>\n",
       "      <td>-0.998</td>\n",
       "      <td>-0.989</td>\n",
       "      <td>...</td>\n",
       "      <td>0.667</td>\n",
       "      <td>-0.942</td>\n",
       "      <td>-0.9660</td>\n",
       "      <td>0.2450</td>\n",
       "      <td>0.1030</td>\n",
       "      <td>0.0661</td>\n",
       "      <td>-0.412</td>\n",
       "      <td>-0.761</td>\n",
       "      <td>0.263</td>\n",
       "      <td>0.0296</td>\n",
       "    </tr>\n",
       "  </tbody>\n",
       "</table>\n",
       "<p>5 rows × 563 columns</p>\n",
       "</div>"
      ],
      "text/plain": [
       "   rn  activity  tBodyAcc.mean.X  tBodyAcc.mean.Y  tBodyAcc.mean.Z  \\\n",
       "0   7  STANDING            0.279          -0.0196          -0.1100   \n",
       "1  11  STANDING            0.277          -0.0127          -0.1030   \n",
       "2  14  STANDING            0.277          -0.0147          -0.1070   \n",
       "3  15  STANDING            0.298           0.0271          -0.0617   \n",
       "4  20  STANDING            0.276          -0.0170          -0.1110   \n",
       "\n",
       "   tBodyAcc.std.X  tBodyAcc.std.Y  tBodyAcc.std.Z  tBodyAcc.mad.X  \\\n",
       "0          -0.997          -0.967          -0.983          -0.997   \n",
       "1          -0.995          -0.973          -0.985          -0.996   \n",
       "2          -0.999          -0.991          -0.993          -0.999   \n",
       "3          -0.989          -0.817          -0.902          -0.989   \n",
       "4          -0.998          -0.991          -0.998          -0.998   \n",
       "\n",
       "   tBodyAcc.mad.Y  ...  fBodyBodyGyroJerkMag.meanFreq  \\\n",
       "0          -0.966  ...                          0.146   \n",
       "1          -0.974  ...                          0.121   \n",
       "2          -0.991  ...                          0.740   \n",
       "3          -0.794  ...                          0.131   \n",
       "4          -0.989  ...                          0.667   \n",
       "\n",
       "   fBodyBodyGyroJerkMag.skewness  fBodyBodyGyroJerkMag.kurtosis  \\\n",
       "0                         -0.217                        -0.5640   \n",
       "1                          0.349                         0.0577   \n",
       "2                         -0.564                        -0.7660   \n",
       "3                          0.208                        -0.0681   \n",
       "4                         -0.942                        -0.9660   \n",
       "\n",
       "   angle.tBodyAccMean.gravity  angle.tBodyAccJerkMean.gravityMean  \\\n",
       "0                     -0.2130                             -0.2310   \n",
       "1                      0.0807                              0.5960   \n",
       "2                      0.1060                             -0.0903   \n",
       "3                      0.0623                             -0.0587   \n",
       "4                      0.2450                              0.1030   \n",
       "\n",
       "   angle.tBodyGyroMean.gravityMean  angle.tBodyGyroJerkMean.gravityMean  \\\n",
       "0                           0.0146                               -0.190   \n",
       "1                          -0.4760                                0.116   \n",
       "2                          -0.1320                                0.499   \n",
       "3                           0.0312                               -0.269   \n",
       "4                           0.0661                               -0.412   \n",
       "\n",
       "   angle.X.gravityMean  angle.Y.gravityMean  angle.Z.gravityMean  \n",
       "0               -0.852                0.182              -0.0430  \n",
       "1               -0.852                0.188              -0.0347  \n",
       "2               -0.850                0.189              -0.0351  \n",
       "3               -0.731                0.283               0.0364  \n",
       "4               -0.761                0.263               0.0296  \n",
       "\n",
       "[5 rows x 563 columns]"
      ]
     },
     "execution_count": 2,
     "metadata": {},
     "output_type": "execute_result"
    }
   ],
   "source": [
    "df = pd.read_csv('Human_activity_recognition.csv')\n",
    "print(df.shape)\n",
    "df.head()"
   ]
  },
  {
   "cell_type": "markdown",
   "metadata": {},
   "source": [
    "## 3. Data Cleaning <a id=\"section3\"></a>"
   ]
  },
  {
   "cell_type": "markdown",
   "metadata": {},
   "source": [
    "__3.1 Check for Duplicates__ <a id=\"section301\"></a>"
   ]
  },
  {
   "cell_type": "code",
   "execution_count": 22,
   "metadata": {},
   "outputs": [
    {
     "name": "stdout",
     "output_type": "stream",
     "text": [
      "No of duplicates in dataset: 0\n"
     ]
    }
   ],
   "source": [
    "print('No of duplicates in dataset: {}'.format(sum(df.duplicated())))"
   ]
  },
  {
   "cell_type": "markdown",
   "metadata": {},
   "source": [
    "__3.2 Check for NaN/Null Values__ <a id=\"section302\"></a>"
   ]
  },
  {
   "cell_type": "code",
   "execution_count": 5,
   "metadata": {},
   "outputs": [
    {
     "name": "stdout",
     "output_type": "stream",
     "text": [
      "Have 0 NaN/Null values in dataset\n"
     ]
    }
   ],
   "source": [
    "print('Have {} NaN/Null values in dataset'.format(df.isnull().values.sum()))"
   ]
  },
  {
   "cell_type": "markdown",
   "metadata": {},
   "source": [
    "__3.3 Check for Imbalance Data__ <a id=\"section303\"></a>"
   ]
  },
  {
   "cell_type": "code",
   "execution_count": 23,
   "metadata": {},
   "outputs": [
    {
     "data": {
      "image/png": "[encoded data removed]",
      "text/plain": [
       "<Figure size 432x288 with 1 Axes>"
      ]
     },
     "metadata": {
      "needs_background": "light"
     },
     "output_type": "display_data"
    }
   ],
   "source": [
    "plt.title('No of Datapoints per Activity', fontsize=15)\n",
    "sns.countplot(df.activity)\n",
    "plt.xticks(rotation=90)\n",
    "plt.show()"
   ]
  },
  {
   "cell_type": "markdown",
   "metadata": {},
   "source": [
    "#### Observation \n",
    "Our data is almost balanced for all activities."
   ]
  },
  {
   "cell_type": "markdown",
   "metadata": {},
   "source": [
    "## 4. Exploratory Data Analysis <a id=section4></a> "
   ]
  },
  {
   "cell_type": "code",
   "execution_count": 7,
   "metadata": {},
   "outputs": [
    {
     "data": {
      "text/plain": [
       "(3609, 563)"
      ]
     },
     "execution_count": 7,
     "metadata": {},
     "output_type": "execute_result"
    }
   ],
   "source": [
    "df.shape  #Check shape of dataset  "
   ]
  },
  {
   "cell_type": "code",
   "execution_count": 8,
   "metadata": {},
   "outputs": [
    {
     "name": "stdout",
     "output_type": "stream",
     "text": [
      "<class 'pandas.core.frame.DataFrame'>\n",
      "RangeIndex: 3609 entries, 0 to 3608\n",
      "Columns: 563 entries, rn to angle.Z.gravityMean\n",
      "dtypes: float64(561), int64(1), object(1)\n",
      "memory usage: 15.5+ MB\n"
     ]
    }
   ],
   "source": [
    "df.info()  #Check information about datatypes present in dataset"
   ]
  },
  {
   "cell_type": "code",
   "execution_count": 9,
   "metadata": {},
   "outputs": [
    {
     "data": {
      "text/html": [
       "<div>\n",
       "<style scoped>\n",
       "    .dataframe tbody tr th:only-of-type {\n",
       "        vertical-align: middle;\n",
       "    }\n",
       "\n",
       "    .dataframe tbody tr th {\n",
       "        vertical-align: top;\n",
       "    }\n",
       "\n",
       "    .dataframe thead th {\n",
       "        text-align: right;\n",
       "    }\n",
       "</style>\n",
       "<table border=\"1\" class=\"dataframe\">\n",
       "  <thead>\n",
       "    <tr style=\"text-align: right;\">\n",
       "      <th></th>\n",
       "      <th>rn</th>\n",
       "      <th>activity</th>\n",
       "      <th>tBodyAcc.mean.X</th>\n",
       "      <th>tBodyAcc.mean.Y</th>\n",
       "      <th>tBodyAcc.mean.Z</th>\n",
       "      <th>tBodyAcc.std.X</th>\n",
       "      <th>tBodyAcc.std.Y</th>\n",
       "      <th>tBodyAcc.std.Z</th>\n",
       "      <th>tBodyAcc.mad.X</th>\n",
       "      <th>tBodyAcc.mad.Y</th>\n",
       "      <th>...</th>\n",
       "      <th>fBodyBodyGyroJerkMag.meanFreq</th>\n",
       "      <th>fBodyBodyGyroJerkMag.skewness</th>\n",
       "      <th>fBodyBodyGyroJerkMag.kurtosis</th>\n",
       "      <th>angle.tBodyAccMean.gravity</th>\n",
       "      <th>angle.tBodyAccJerkMean.gravityMean</th>\n",
       "      <th>angle.tBodyGyroMean.gravityMean</th>\n",
       "      <th>angle.tBodyGyroJerkMean.gravityMean</th>\n",
       "      <th>angle.X.gravityMean</th>\n",
       "      <th>angle.Y.gravityMean</th>\n",
       "      <th>angle.Z.gravityMean</th>\n",
       "    </tr>\n",
       "  </thead>\n",
       "  <tbody>\n",
       "    <tr>\n",
       "      <th>count</th>\n",
       "      <td>3609.000000</td>\n",
       "      <td>3609</td>\n",
       "      <td>3609.000000</td>\n",
       "      <td>3609.000000</td>\n",
       "      <td>3609.000000</td>\n",
       "      <td>3609.000000</td>\n",
       "      <td>3609.000000</td>\n",
       "      <td>3609.000000</td>\n",
       "      <td>3609.000000</td>\n",
       "      <td>3609.000000</td>\n",
       "      <td>...</td>\n",
       "      <td>3609.000000</td>\n",
       "      <td>3609.000000</td>\n",
       "      <td>3609.000000</td>\n",
       "      <td>3609.000000</td>\n",
       "      <td>3609.000000</td>\n",
       "      <td>3609.000000</td>\n",
       "      <td>3609.000000</td>\n",
       "      <td>3609.000000</td>\n",
       "      <td>3609.000000</td>\n",
       "      <td>3609.000000</td>\n",
       "    </tr>\n",
       "    <tr>\n",
       "      <th>unique</th>\n",
       "      <td>NaN</td>\n",
       "      <td>6</td>\n",
       "      <td>NaN</td>\n",
       "      <td>NaN</td>\n",
       "      <td>NaN</td>\n",
       "      <td>NaN</td>\n",
       "      <td>NaN</td>\n",
       "      <td>NaN</td>\n",
       "      <td>NaN</td>\n",
       "      <td>NaN</td>\n",
       "      <td>...</td>\n",
       "      <td>NaN</td>\n",
       "      <td>NaN</td>\n",
       "      <td>NaN</td>\n",
       "      <td>NaN</td>\n",
       "      <td>NaN</td>\n",
       "      <td>NaN</td>\n",
       "      <td>NaN</td>\n",
       "      <td>NaN</td>\n",
       "      <td>NaN</td>\n",
       "      <td>NaN</td>\n",
       "    </tr>\n",
       "    <tr>\n",
       "      <th>top</th>\n",
       "      <td>NaN</td>\n",
       "      <td>LAYING</td>\n",
       "      <td>NaN</td>\n",
       "      <td>NaN</td>\n",
       "      <td>NaN</td>\n",
       "      <td>NaN</td>\n",
       "      <td>NaN</td>\n",
       "      <td>NaN</td>\n",
       "      <td>NaN</td>\n",
       "      <td>NaN</td>\n",
       "      <td>...</td>\n",
       "      <td>NaN</td>\n",
       "      <td>NaN</td>\n",
       "      <td>NaN</td>\n",
       "      <td>NaN</td>\n",
       "      <td>NaN</td>\n",
       "      <td>NaN</td>\n",
       "      <td>NaN</td>\n",
       "      <td>NaN</td>\n",
       "      <td>NaN</td>\n",
       "      <td>NaN</td>\n",
       "    </tr>\n",
       "    <tr>\n",
       "      <th>freq</th>\n",
       "      <td>NaN</td>\n",
       "      <td>681</td>\n",
       "      <td>NaN</td>\n",
       "      <td>NaN</td>\n",
       "      <td>NaN</td>\n",
       "      <td>NaN</td>\n",
       "      <td>NaN</td>\n",
       "      <td>NaN</td>\n",
       "      <td>NaN</td>\n",
       "      <td>NaN</td>\n",
       "      <td>...</td>\n",
       "      <td>NaN</td>\n",
       "      <td>NaN</td>\n",
       "      <td>NaN</td>\n",
       "      <td>NaN</td>\n",
       "      <td>NaN</td>\n",
       "      <td>NaN</td>\n",
       "      <td>NaN</td>\n",
       "      <td>NaN</td>\n",
       "      <td>NaN</td>\n",
       "      <td>NaN</td>\n",
       "    </tr>\n",
       "    <tr>\n",
       "      <th>mean</th>\n",
       "      <td>5152.430590</td>\n",
       "      <td>NaN</td>\n",
       "      <td>0.274544</td>\n",
       "      <td>-0.017415</td>\n",
       "      <td>-0.109195</td>\n",
       "      <td>-0.608457</td>\n",
       "      <td>-0.506265</td>\n",
       "      <td>-0.614482</td>\n",
       "      <td>-0.634634</td>\n",
       "      <td>-0.521660</td>\n",
       "      <td>...</td>\n",
       "      <td>0.128804</td>\n",
       "      <td>-0.300815</td>\n",
       "      <td>-0.619400</td>\n",
       "      <td>0.007561</td>\n",
       "      <td>0.009484</td>\n",
       "      <td>0.029185</td>\n",
       "      <td>-0.010632</td>\n",
       "      <td>-0.496977</td>\n",
       "      <td>0.060040</td>\n",
       "      <td>-0.050202</td>\n",
       "    </tr>\n",
       "    <tr>\n",
       "      <th>std</th>\n",
       "      <td>2975.767839</td>\n",
       "      <td>NaN</td>\n",
       "      <td>0.063589</td>\n",
       "      <td>0.042589</td>\n",
       "      <td>0.056218</td>\n",
       "      <td>0.439157</td>\n",
       "      <td>0.501627</td>\n",
       "      <td>0.399514</td>\n",
       "      <td>0.413194</td>\n",
       "      <td>0.485282</td>\n",
       "      <td>...</td>\n",
       "      <td>0.240278</td>\n",
       "      <td>0.317963</td>\n",
       "      <td>0.308303</td>\n",
       "      <td>0.332249</td>\n",
       "      <td>0.448971</td>\n",
       "      <td>0.613615</td>\n",
       "      <td>0.490830</td>\n",
       "      <td>0.509336</td>\n",
       "      <td>0.311308</td>\n",
       "      <td>0.263935</td>\n",
       "    </tr>\n",
       "    <tr>\n",
       "      <th>min</th>\n",
       "      <td>7.000000</td>\n",
       "      <td>NaN</td>\n",
       "      <td>-0.521000</td>\n",
       "      <td>-1.000000</td>\n",
       "      <td>-0.926000</td>\n",
       "      <td>-1.000000</td>\n",
       "      <td>-0.999000</td>\n",
       "      <td>-1.000000</td>\n",
       "      <td>-1.000000</td>\n",
       "      <td>-0.999000</td>\n",
       "      <td>...</td>\n",
       "      <td>-0.786000</td>\n",
       "      <td>-0.968000</td>\n",
       "      <td>-0.995000</td>\n",
       "      <td>-0.969000</td>\n",
       "      <td>-0.997000</td>\n",
       "      <td>-1.000000</td>\n",
       "      <td>-0.993000</td>\n",
       "      <td>-0.999000</td>\n",
       "      <td>-1.000000</td>\n",
       "      <td>-0.971000</td>\n",
       "    </tr>\n",
       "    <tr>\n",
       "      <th>25%</th>\n",
       "      <td>2570.000000</td>\n",
       "      <td>NaN</td>\n",
       "      <td>0.262000</td>\n",
       "      <td>-0.025200</td>\n",
       "      <td>-0.122000</td>\n",
       "      <td>-0.992000</td>\n",
       "      <td>-0.976000</td>\n",
       "      <td>-0.979000</td>\n",
       "      <td>-0.993000</td>\n",
       "      <td>-0.976000</td>\n",
       "      <td>...</td>\n",
       "      <td>-0.015800</td>\n",
       "      <td>-0.533000</td>\n",
       "      <td>-0.836000</td>\n",
       "      <td>-0.118000</td>\n",
       "      <td>-0.281000</td>\n",
       "      <td>-0.478000</td>\n",
       "      <td>-0.398000</td>\n",
       "      <td>-0.816000</td>\n",
       "      <td>-0.015600</td>\n",
       "      <td>-0.122000</td>\n",
       "    </tr>\n",
       "    <tr>\n",
       "      <th>50%</th>\n",
       "      <td>5158.000000</td>\n",
       "      <td>NaN</td>\n",
       "      <td>0.277000</td>\n",
       "      <td>-0.017200</td>\n",
       "      <td>-0.109000</td>\n",
       "      <td>-0.939000</td>\n",
       "      <td>-0.812000</td>\n",
       "      <td>-0.844000</td>\n",
       "      <td>-0.946000</td>\n",
       "      <td>-0.816000</td>\n",
       "      <td>...</td>\n",
       "      <td>0.132000</td>\n",
       "      <td>-0.341000</td>\n",
       "      <td>-0.706000</td>\n",
       "      <td>0.007740</td>\n",
       "      <td>0.009830</td>\n",
       "      <td>0.029600</td>\n",
       "      <td>-0.013400</td>\n",
       "      <td>-0.716000</td>\n",
       "      <td>0.183000</td>\n",
       "      <td>-0.005260</td>\n",
       "    </tr>\n",
       "    <tr>\n",
       "      <th>75%</th>\n",
       "      <td>7727.000000</td>\n",
       "      <td>NaN</td>\n",
       "      <td>0.287000</td>\n",
       "      <td>-0.011000</td>\n",
       "      <td>-0.098000</td>\n",
       "      <td>-0.254000</td>\n",
       "      <td>-0.051700</td>\n",
       "      <td>-0.283000</td>\n",
       "      <td>-0.306000</td>\n",
       "      <td>-0.084500</td>\n",
       "      <td>...</td>\n",
       "      <td>0.290000</td>\n",
       "      <td>-0.118000</td>\n",
       "      <td>-0.501000</td>\n",
       "      <td>0.142000</td>\n",
       "      <td>0.309000</td>\n",
       "      <td>0.554000</td>\n",
       "      <td>0.374000</td>\n",
       "      <td>-0.522000</td>\n",
       "      <td>0.252000</td>\n",
       "      <td>0.104000</td>\n",
       "    </tr>\n",
       "    <tr>\n",
       "      <th>max</th>\n",
       "      <td>10281.000000</td>\n",
       "      <td>NaN</td>\n",
       "      <td>0.693000</td>\n",
       "      <td>1.000000</td>\n",
       "      <td>1.000000</td>\n",
       "      <td>1.000000</td>\n",
       "      <td>0.980000</td>\n",
       "      <td>1.000000</td>\n",
       "      <td>1.000000</td>\n",
       "      <td>0.988000</td>\n",
       "      <td>...</td>\n",
       "      <td>0.871000</td>\n",
       "      <td>0.990000</td>\n",
       "      <td>0.957000</td>\n",
       "      <td>0.981000</td>\n",
       "      <td>0.997000</td>\n",
       "      <td>0.999000</td>\n",
       "      <td>0.996000</td>\n",
       "      <td>0.977000</td>\n",
       "      <td>1.000000</td>\n",
       "      <td>0.998000</td>\n",
       "    </tr>\n",
       "  </tbody>\n",
       "</table>\n",
       "<p>11 rows × 563 columns</p>\n",
       "</div>"
      ],
      "text/plain": [
       "                  rn activity  tBodyAcc.mean.X  tBodyAcc.mean.Y  \\\n",
       "count    3609.000000     3609      3609.000000      3609.000000   \n",
       "unique           NaN        6              NaN              NaN   \n",
       "top              NaN   LAYING              NaN              NaN   \n",
       "freq             NaN      681              NaN              NaN   \n",
       "mean     5152.430590      NaN         0.274544        -0.017415   \n",
       "std      2975.767839      NaN         0.063589         0.042589   \n",
       "min         7.000000      NaN        -0.521000        -1.000000   \n",
       "25%      2570.000000      NaN         0.262000        -0.025200   \n",
       "50%      5158.000000      NaN         0.277000        -0.017200   \n",
       "75%      7727.000000      NaN         0.287000        -0.011000   \n",
       "max     10281.000000      NaN         0.693000         1.000000   \n",
       "\n",
       "        tBodyAcc.mean.Z  tBodyAcc.std.X  tBodyAcc.std.Y  tBodyAcc.std.Z  \\\n",
       "count       3609.000000     3609.000000     3609.000000     3609.000000   \n",
       "unique              NaN             NaN             NaN             NaN   \n",
       "top                 NaN             NaN             NaN             NaN   \n",
       "freq                NaN             NaN             NaN             NaN   \n",
       "mean          -0.109195       -0.608457       -0.506265       -0.614482   \n",
       "std            0.056218        0.439157        0.501627        0.399514   \n",
       "min           -0.926000       -1.000000       -0.999000       -1.000000   \n",
       "25%           -0.122000       -0.992000       -0.976000       -0.979000   \n",
       "50%           -0.109000       -0.939000       -0.812000       -0.844000   \n",
       "75%           -0.098000       -0.254000       -0.051700       -0.283000   \n",
       "max            1.000000        1.000000        0.980000        1.000000   \n",
       "\n",
       "        tBodyAcc.mad.X  tBodyAcc.mad.Y  ...  fBodyBodyGyroJerkMag.meanFreq  \\\n",
       "count      3609.000000     3609.000000  ...                    3609.000000   \n",
       "unique             NaN             NaN  ...                            NaN   \n",
       "top                NaN             NaN  ...                            NaN   \n",
       "freq               NaN             NaN  ...                            NaN   \n",
       "mean         -0.634634       -0.521660  ...                       0.128804   \n",
       "std           0.413194        0.485282  ...                       0.240278   \n",
       "min          -1.000000       -0.999000  ...                      -0.786000   \n",
       "25%          -0.993000       -0.976000  ...                      -0.015800   \n",
       "50%          -0.946000       -0.816000  ...                       0.132000   \n",
       "75%          -0.306000       -0.084500  ...                       0.290000   \n",
       "max           1.000000        0.988000  ...                       0.871000   \n",
       "\n",
       "        fBodyBodyGyroJerkMag.skewness  fBodyBodyGyroJerkMag.kurtosis  \\\n",
       "count                     3609.000000                    3609.000000   \n",
       "unique                            NaN                            NaN   \n",
       "top                               NaN                            NaN   \n",
       "freq                              NaN                            NaN   \n",
       "mean                        -0.300815                      -0.619400   \n",
       "std                          0.317963                       0.308303   \n",
       "min                         -0.968000                      -0.995000   \n",
       "25%                         -0.533000                      -0.836000   \n",
       "50%                         -0.341000                      -0.706000   \n",
       "75%                         -0.118000                      -0.501000   \n",
       "max                          0.990000                       0.957000   \n",
       "\n",
       "        angle.tBodyAccMean.gravity  angle.tBodyAccJerkMean.gravityMean  \\\n",
       "count                  3609.000000                         3609.000000   \n",
       "unique                         NaN                                 NaN   \n",
       "top                            NaN                                 NaN   \n",
       "freq                           NaN                                 NaN   \n",
       "mean                      0.007561                            0.009484   \n",
       "std                       0.332249                            0.448971   \n",
       "min                      -0.969000                           -0.997000   \n",
       "25%                      -0.118000                           -0.281000   \n",
       "50%                       0.007740                            0.009830   \n",
       "75%                       0.142000                            0.309000   \n",
       "max                       0.981000                            0.997000   \n",
       "\n",
       "        angle.tBodyGyroMean.gravityMean  angle.tBodyGyroJerkMean.gravityMean  \\\n",
       "count                       3609.000000                          3609.000000   \n",
       "unique                              NaN                                  NaN   \n",
       "top                                 NaN                                  NaN   \n",
       "freq                                NaN                                  NaN   \n",
       "mean                           0.029185                            -0.010632   \n",
       "std                            0.613615                             0.490830   \n",
       "min                           -1.000000                            -0.993000   \n",
       "25%                           -0.478000                            -0.398000   \n",
       "50%                            0.029600                            -0.013400   \n",
       "75%                            0.554000                             0.374000   \n",
       "max                            0.999000                             0.996000   \n",
       "\n",
       "        angle.X.gravityMean  angle.Y.gravityMean  angle.Z.gravityMean  \n",
       "count           3609.000000          3609.000000          3609.000000  \n",
       "unique                  NaN                  NaN                  NaN  \n",
       "top                     NaN                  NaN                  NaN  \n",
       "freq                    NaN                  NaN                  NaN  \n",
       "mean              -0.496977             0.060040            -0.050202  \n",
       "std                0.509336             0.311308             0.263935  \n",
       "min               -0.999000            -1.000000            -0.971000  \n",
       "25%               -0.816000            -0.015600            -0.122000  \n",
       "50%               -0.716000             0.183000            -0.005260  \n",
       "75%               -0.522000             0.252000             0.104000  \n",
       "max                0.977000             1.000000             0.998000  \n",
       "\n",
       "[11 rows x 563 columns]"
      ]
     },
     "execution_count": 9,
     "metadata": {},
     "output_type": "execute_result"
    }
   ],
   "source": [
    "df.describe(include=\"all\")  # Check for escriptive statictics."
   ]
  },
  {
   "cell_type": "code",
   "execution_count": 10,
   "metadata": {},
   "outputs": [
    {
     "name": "stdout",
     "output_type": "stream",
     "text": [
      "Unique Activity : ['STANDING' 'SITTING' 'LAYING' 'WALKING' 'WALKING_DOWNSTAIRS'\n",
      " 'WALKING_UPSTAIRS']\n"
     ]
    }
   ],
   "source": [
    "# Find the unique activities performed by subjects\n",
    "activity_list = df[\"activity\"].unique()\n",
    "print(\"Unique Activity : {}\".format(activity_list))"
   ]
  },
  {
   "cell_type": "code",
   "execution_count": 11,
   "metadata": {},
   "outputs": [
    {
     "data": {
      "text/plain": [
       "activity    object\n",
       "dtype: object"
      ]
     },
     "execution_count": 11,
     "metadata": {},
     "output_type": "execute_result"
    }
   ],
   "source": [
    "df.select_dtypes(include=['object']).dtypes"
   ]
  },
  {
   "cell_type": "markdown",
   "metadata": {},
   "source": [
    "#### Observation\n",
    "- There is total 563 Columns and 3609 records\n",
    "- Except activity columns all other clumn are of number type.\n",
    "- Top Most activity is __Laying__ and overall 6 different activities are present in dataset.\n",
    "- All Numeric type column are ranging from -1 to 1 . This implies data is standarised.\n"
   ]
  },
  {
   "cell_type": "code",
   "execution_count": 12,
   "metadata": {},
   "outputs": [],
   "source": [
    "col = df.columns.tolist()\n",
    "#print(col)"
   ]
  },
  {
   "cell_type": "markdown",
   "metadata": {},
   "source": [
    "__4.1 Distribution of exploratory variable/ features__ <a id=\"section401\"></a>\n",
    "\n",
    "Lets find out the distribution of some important acceleration signal feature like _tBodyAccMag, tGravityAccMag, tBodyAccJerkMag, tBodyGyroMag, tBodyGyroJerkMag_."
   ]
  },
  {
   "cell_type": "code",
   "execution_count": 3,
   "metadata": {},
   "outputs": [
    {
     "data": {
      "text/plain": [
       "<matplotlib.axes._subplots.AxesSubplot at 0x235b5330488>"
      ]
     },
     "execution_count": 3,
     "metadata": {},
     "output_type": "execute_result"
    },
    {
     "data": {
      "image/png": "[encoded data removed]",
      "text/plain": [
       "<Figure size 1440x360 with 5 Axes>"
      ]
     },
     "metadata": {
      "needs_background": "light"
     },
     "output_type": "display_data"
    }
   ],
   "source": [
    "fig, [ax1,ax2,ax3,ax4,ax5] = plt.subplots(1,5,figsize=(20,5))\n",
    "\n",
    "sns.distplot(df['tBodyAccMag.mean'], color='blue', ax=ax1)\n",
    "sns.distplot(df['tGravityAccMag.mean'], color='red', ax=ax2)\n",
    "sns.distplot(df['tBodyAccJerkMag.mean'], color='green', ax=ax3)\n",
    "sns.distplot(df['tBodyGyroMag.mean'], color='magenta', ax=ax4)\n",
    "sns.distplot(df['tBodyGyroJerkMag.mean'], color='brown', ax=ax5)"
   ]
  },
  {
   "cell_type": "markdown",
   "metadata": {},
   "source": [
    "__Observation__ <br>\n",
    "<p>Looking at this distribution for acceleration signal feature.One can distinguish there are mainly two type of activity is found.Stationary and Moving activity.</p>"
   ]
  },
  {
   "cell_type": "markdown",
   "metadata": {},
   "source": [
    "__4.2 Stationary and Moving activity plot__ <a id=\"section402\"></a>"
   ]
  },
  {
   "cell_type": "code",
   "execution_count": 4,
   "metadata": {},
   "outputs": [
    {
     "data": {
      "image/png": "[encoded data removed]",
      "text/plain": [
       "<Figure size 1019.88x432 with 1 Axes>"
      ]
     },
     "metadata": {
      "needs_background": "light"
     },
     "output_type": "display_data"
    }
   ],
   "source": [
    "#tBodyAccMag, tGravityAccMag, tBodyAccJerkMag, tBodyGyroMag, tBodyGyroJerkMag\n",
    "sns.set_palette(\"Set1\", desat=0.80)\n",
    "facetgrid = sns.FacetGrid(df, hue='activity', height=6,aspect=2)\n",
    "facetgrid.map(sns.distplot,'tBodyAccMag.mean', hist=False)\\\n",
    "    .add_legend()\n",
    "plt.annotate(\"Stationary Activities\", xy=(-0.956,17), xytext=(-0.9, 23), size=20,\\\n",
    "            va='center', ha='left',\\\n",
    "            arrowprops=dict(arrowstyle=\"simple\",connectionstyle=\"arc3,rad=0.1\"))\n",
    "\n",
    "plt.annotate(\"Moving Activities\", xy=(0,3), xytext=(0.2, 9), size=20,\\\n",
    "            va='center', ha='left',\\\n",
    "            arrowprops=dict(arrowstyle=\"simple\",connectionstyle=\"arc3,rad=0.1\"))\n",
    "plt.show()"
   ]
  },
  {
   "cell_type": "code",
   "execution_count": 25,
   "metadata": {},
   "outputs": [
    {
     "data": {
      "image/png": "[encoded data removed]",
      "text/plain": [
       "<Figure size 1008x504 with 2 Axes>"
      ]
     },
     "metadata": {
      "needs_background": "light"
     },
     "output_type": "display_data"
    }
   ],
   "source": [
    "fig = plt.figure(figsize=(14,7))\n",
    "plt.subplot(1, 2, 1)\n",
    "sns.boxplot(x='activity', y='tBodyAccMag.mean',data=df, showfliers=False, saturation=1)\n",
    "plt.ylabel('Acceleration Magnitude mean')\n",
    "plt.xticks(rotation=45)\n",
    "plt.subplot(1, 2, 2)\n",
    "sns.boxplot(x='activity', y='tGravityAccMag.mean',data=df, showfliers=False, saturation=1)\n",
    "plt.ylabel('Gravity Acceleration Magnitude mean')\n",
    "plt.xticks(rotation=45)\n",
    "plt.show()"
   ]
  },
  {
   "cell_type": "markdown",
   "metadata": {},
   "source": [
    "__Observations:__\n",
    "- If tAccMean is < -0.8 then the Activities are either Standing or Sitting or Laying.\n",
    "- If tAccMean is > -0.6 then the Activities are either Walking or WalkingDownstairs or WalkingUpstairs.\n",
    "- If tAccMean > 0.0 then the Activity is WalkingDownstairs."
   ]
  },
  {
   "cell_type": "markdown",
   "metadata": {},
   "source": [
    "__4.3 Plotting - Position of Gravity Acceleration component__ <a id=\"section403\"></a><br>\n",
    "Lets plots the angle between two vector / position of acceleration signal."
   ]
  },
  {
   "cell_type": "code",
   "execution_count": 17,
   "metadata": {},
   "outputs": [
    {
     "data": {
      "image/png": "[encoded data removed]",
      "text/plain": [
       "<Figure size 432x288 with 1 Axes>"
      ]
     },
     "metadata": {
      "needs_background": "light"
     },
     "output_type": "display_data"
    }
   ],
   "source": [
    "sns.boxplot(x='activity', y='angle.X.gravityMean', data=df)\n",
    "plt.title('Angle between X-axis and Gravity_mean', fontsize=15)\n",
    "plt.xticks(rotation = 40)\n",
    "plt.show()"
   ]
  },
  {
   "cell_type": "markdown",
   "metadata": {},
   "source": [
    "__Observations:__\n",
    "- If angle.X.gravityMean > 0 then Activity is Laying.\n",
    "- We can classify all datapoints belonging to Laying activity with just a single if else statement."
   ]
  },
  {
   "cell_type": "markdown",
   "metadata": {},
   "source": [
    "__4.4 Finding the Correlation/ Relationships between the features__ <a id=\"section404\"></a><br>"
   ]
  },
  {
   "cell_type": "code",
   "execution_count": 6,
   "metadata": {},
   "outputs": [
    {
     "data": {
      "text/html": [
       "<div>\n",
       "<style scoped>\n",
       "    .dataframe tbody tr th:only-of-type {\n",
       "        vertical-align: middle;\n",
       "    }\n",
       "\n",
       "    .dataframe tbody tr th {\n",
       "        vertical-align: top;\n",
       "    }\n",
       "\n",
       "    .dataframe thead th {\n",
       "        text-align: right;\n",
       "    }\n",
       "</style>\n",
       "<table border=\"1\" class=\"dataframe\">\n",
       "  <thead>\n",
       "    <tr style=\"text-align: right;\">\n",
       "      <th></th>\n",
       "      <th>Feature_1</th>\n",
       "      <th>Feature_2</th>\n",
       "      <th>Correlations</th>\n",
       "      <th>abs_correlation</th>\n",
       "    </tr>\n",
       "  </thead>\n",
       "  <tbody>\n",
       "    <tr>\n",
       "      <th>0</th>\n",
       "      <td>rn</td>\n",
       "      <td>rn</td>\n",
       "      <td>1.000000</td>\n",
       "      <td>1.000000</td>\n",
       "    </tr>\n",
       "    <tr>\n",
       "      <th>1</th>\n",
       "      <td>rn</td>\n",
       "      <td>tBodyAcc.mean.X</td>\n",
       "      <td>-0.004802</td>\n",
       "      <td>0.004802</td>\n",
       "    </tr>\n",
       "    <tr>\n",
       "      <th>2</th>\n",
       "      <td>rn</td>\n",
       "      <td>tBodyAcc.mean.Y</td>\n",
       "      <td>-0.008770</td>\n",
       "      <td>0.008770</td>\n",
       "    </tr>\n",
       "    <tr>\n",
       "      <th>3</th>\n",
       "      <td>rn</td>\n",
       "      <td>tBodyAcc.mean.Z</td>\n",
       "      <td>-0.009819</td>\n",
       "      <td>0.009819</td>\n",
       "    </tr>\n",
       "    <tr>\n",
       "      <th>4</th>\n",
       "      <td>rn</td>\n",
       "      <td>tBodyAcc.std.X</td>\n",
       "      <td>-0.028609</td>\n",
       "      <td>0.028609</td>\n",
       "    </tr>\n",
       "  </tbody>\n",
       "</table>\n",
       "</div>"
      ],
      "text/plain": [
       "  Feature_1        Feature_2  Correlations  abs_correlation\n",
       "0        rn               rn      1.000000         1.000000\n",
       "1        rn  tBodyAcc.mean.X     -0.004802         0.004802\n",
       "2        rn  tBodyAcc.mean.Y     -0.008770         0.008770\n",
       "3        rn  tBodyAcc.mean.Z     -0.009819         0.009819\n",
       "4        rn   tBodyAcc.std.X     -0.028609         0.028609"
      ]
     },
     "execution_count": 6,
     "metadata": {},
     "output_type": "execute_result"
    }
   ],
   "source": [
    "features = df.loc[:,df.columns != 'activity']   #exclude the activity column\n",
    "#Calculate the correlation values\n",
    "correlated_values = features.corr()\n",
    "#stack the data and convert to a dataframe\n",
    "correlated_values = (correlated_values.stack().to_frame().reset_index()\n",
    "                    .rename(columns={'level_0': 'Feature_1', 'level_1': 'Feature_2', 0:'Correlations'}))\n",
    "#Calculate the absolute correlation between values.\n",
    "correlated_values['abs_correlation'] = correlated_values.Correlations.abs()\n",
    "correlated_values.head()"
   ]
  },
  {
   "cell_type": "markdown",
   "metadata": {},
   "source": [
    "__Find the correlation of feature having coefficient greater than .80 .__"
   ]
  },
  {
   "cell_type": "code",
   "execution_count": 85,
   "metadata": {},
   "outputs": [
    {
     "name": "stdout",
     "output_type": "stream",
     "text": [
      "(46386, 4)\n"
     ]
    },
    {
     "data": {
      "text/html": [
       "<div>\n",
       "<style scoped>\n",
       "    .dataframe tbody tr th:only-of-type {\n",
       "        vertical-align: middle;\n",
       "    }\n",
       "\n",
       "    .dataframe tbody tr th {\n",
       "        vertical-align: top;\n",
       "    }\n",
       "\n",
       "    .dataframe thead th {\n",
       "        text-align: right;\n",
       "    }\n",
       "</style>\n",
       "<table border=\"1\" class=\"dataframe\">\n",
       "  <thead>\n",
       "    <tr style=\"text-align: right;\">\n",
       "      <th></th>\n",
       "      <th>Feature_1</th>\n",
       "      <th>Feature_2</th>\n",
       "      <th>Correlations</th>\n",
       "      <th>abs_correlation</th>\n",
       "    </tr>\n",
       "  </thead>\n",
       "  <tbody>\n",
       "    <tr>\n",
       "      <th>185427</th>\n",
       "      <td>fBodyAcc.bandsEnergy.1.24.1</td>\n",
       "      <td>fBodyBodyGyroMag.mean</td>\n",
       "      <td>0.878634</td>\n",
       "      <td>0.878634</td>\n",
       "    </tr>\n",
       "    <tr>\n",
       "      <th>80156</th>\n",
       "      <td>tBodyGyro.iqr.Z</td>\n",
       "      <td>fBodyAccJerk.mad.Y</td>\n",
       "      <td>0.824653</td>\n",
       "      <td>0.824653</td>\n",
       "    </tr>\n",
       "    <tr>\n",
       "      <th>195030</th>\n",
       "      <td>fBodyAccJerk.mean.Z</td>\n",
       "      <td>tBodyAcc.sma</td>\n",
       "      <td>0.905097</td>\n",
       "      <td>0.905097</td>\n",
       "    </tr>\n",
       "    <tr>\n",
       "      <th>298562</th>\n",
       "      <td>fBodyBodyGyroMag.mad</td>\n",
       "      <td>tBodyGyro.iqr.X</td>\n",
       "      <td>0.883675</td>\n",
       "      <td>0.883675</td>\n",
       "    </tr>\n",
       "    <tr>\n",
       "      <th>130817</th>\n",
       "      <td>tBodyAccJerkMag.sma</td>\n",
       "      <td>fBodyGyro.max.X</td>\n",
       "      <td>0.827636</td>\n",
       "      <td>0.827636</td>\n",
       "    </tr>\n",
       "    <tr>\n",
       "      <th>6531</th>\n",
       "      <td>tBodyAcc.max.Y</td>\n",
       "      <td>fBodyAccJerk.std.Y</td>\n",
       "      <td>0.908447</td>\n",
       "      <td>0.908447</td>\n",
       "    </tr>\n",
       "  </tbody>\n",
       "</table>\n",
       "</div>"
      ],
      "text/plain": [
       "                          Feature_1              Feature_2  Correlations  \\\n",
       "185427  fBodyAcc.bandsEnergy.1.24.1  fBodyBodyGyroMag.mean      0.878634   \n",
       "80156               tBodyGyro.iqr.Z     fBodyAccJerk.mad.Y      0.824653   \n",
       "195030          fBodyAccJerk.mean.Z           tBodyAcc.sma      0.905097   \n",
       "298562         fBodyBodyGyroMag.mad        tBodyGyro.iqr.X      0.883675   \n",
       "130817          tBodyAccJerkMag.sma        fBodyGyro.max.X      0.827636   \n",
       "6531                 tBodyAcc.max.Y     fBodyAccJerk.std.Y      0.908447   \n",
       "\n",
       "        abs_correlation  \n",
       "185427         0.878634  \n",
       "80156          0.824653  \n",
       "195030         0.905097  \n",
       "298562         0.883675  \n",
       "130817         0.827636  \n",
       "6531           0.908447  "
      ]
     },
     "execution_count": 85,
     "metadata": {},
     "output_type": "execute_result"
    }
   ],
   "source": [
    "#Picking most correlated features\n",
    "corr_fields = correlated_values.sort_values('Correlations', ascending = False).query('abs_correlation>0.8')\n",
    "print(corr_fields.shape)\n",
    "corr_fields.sample(6)"
   ]
  },
  {
   "cell_type": "markdown",
   "metadata": {},
   "source": [
    "__Find the correlation of feature having coefficient less than .80 .__"
   ]
  },
  {
   "cell_type": "code",
   "execution_count": 86,
   "metadata": {},
   "outputs": [
    {
     "name": "stdout",
     "output_type": "stream",
     "text": [
      "(269458, 4)\n"
     ]
    },
    {
     "data": {
      "text/html": [
       "<div>\n",
       "<style scoped>\n",
       "    .dataframe tbody tr th:only-of-type {\n",
       "        vertical-align: middle;\n",
       "    }\n",
       "\n",
       "    .dataframe tbody tr th {\n",
       "        vertical-align: top;\n",
       "    }\n",
       "\n",
       "    .dataframe thead th {\n",
       "        text-align: right;\n",
       "    }\n",
       "</style>\n",
       "<table border=\"1\" class=\"dataframe\">\n",
       "  <thead>\n",
       "    <tr style=\"text-align: right;\">\n",
       "      <th></th>\n",
       "      <th>Feature_1</th>\n",
       "      <th>Feature_2</th>\n",
       "      <th>Correlations</th>\n",
       "      <th>abs_correlation</th>\n",
       "    </tr>\n",
       "  </thead>\n",
       "  <tbody>\n",
       "    <tr>\n",
       "      <th>130448</th>\n",
       "      <td>tBodyAccJerkMag.sma</td>\n",
       "      <td>tGravityAcc.entropy.Y</td>\n",
       "      <td>-0.258758</td>\n",
       "      <td>0.258758</td>\n",
       "    </tr>\n",
       "    <tr>\n",
       "      <th>241965</th>\n",
       "      <td>fBodyGyro.mad.X</td>\n",
       "      <td>fBodyAcc.bandsEnergy.17.24</td>\n",
       "      <td>0.732687</td>\n",
       "      <td>0.732687</td>\n",
       "    </tr>\n",
       "    <tr>\n",
       "      <th>28988</th>\n",
       "      <td>tGravityAcc.max.Y</td>\n",
       "      <td>fBodyAcc.bandsEnergy.17.32.1</td>\n",
       "      <td>-0.384377</td>\n",
       "      <td>0.384377</td>\n",
       "    </tr>\n",
       "    <tr>\n",
       "      <th>42974</th>\n",
       "      <td>tGravityAcc.arCoeff.Z.3</td>\n",
       "      <td>tBodyGyroJerkMag.arCoeff1</td>\n",
       "      <td>0.316629</td>\n",
       "      <td>0.316629</td>\n",
       "    </tr>\n",
       "    <tr>\n",
       "      <th>160931</th>\n",
       "      <td>fBodyAcc.iqr.Y</td>\n",
       "      <td>tBodyGyroJerk.correlation.X.Z</td>\n",
       "      <td>-0.074755</td>\n",
       "      <td>0.074755</td>\n",
       "    </tr>\n",
       "    <tr>\n",
       "      <th>7150</th>\n",
       "      <td>tBodyAcc.max.Z</td>\n",
       "      <td>fBodyAccJerk.bandsEnergy.33.48.1</td>\n",
       "      <td>0.706075</td>\n",
       "      <td>0.706075</td>\n",
       "    </tr>\n",
       "  </tbody>\n",
       "</table>\n",
       "</div>"
      ],
      "text/plain": [
       "                      Feature_1                         Feature_2  \\\n",
       "130448      tBodyAccJerkMag.sma             tGravityAcc.entropy.Y   \n",
       "241965          fBodyGyro.mad.X        fBodyAcc.bandsEnergy.17.24   \n",
       "28988         tGravityAcc.max.Y      fBodyAcc.bandsEnergy.17.32.1   \n",
       "42974   tGravityAcc.arCoeff.Z.3         tBodyGyroJerkMag.arCoeff1   \n",
       "160931           fBodyAcc.iqr.Y     tBodyGyroJerk.correlation.X.Z   \n",
       "7150             tBodyAcc.max.Z  fBodyAccJerk.bandsEnergy.33.48.1   \n",
       "\n",
       "        Correlations  abs_correlation  \n",
       "130448     -0.258758         0.258758  \n",
       "241965      0.732687         0.732687  \n",
       "28988      -0.384377         0.384377  \n",
       "42974       0.316629         0.316629  \n",
       "160931     -0.074755         0.074755  \n",
       "7150        0.706075         0.706075  "
      ]
     },
     "execution_count": 86,
     "metadata": {},
     "output_type": "execute_result"
    }
   ],
   "source": [
    "#Picking most correlated features\n",
    "non_corr_fields = correlated_values.sort_values('Correlations', ascending = False).query('abs_correlation<0.8')\n",
    "print(non_corr_fields.shape)\n",
    "non_corr_fields.sample(6)"
   ]
  },
  {
   "cell_type": "markdown",
   "metadata": {},
   "source": [
    "## 5. Fitting some Classification models <a id=\"section5\"></a>"
   ]
  },
  {
   "cell_type": "markdown",
   "metadata": {},
   "source": [
    "__5.1 Preparing X and y using pandas__ <a id=\"section501\"></a>"
   ]
  },
  {
   "cell_type": "code",
   "execution_count": 7,
   "metadata": {},
   "outputs": [
    {
     "data": {
      "text/html": [
       "<div>\n",
       "<style scoped>\n",
       "    .dataframe tbody tr th:only-of-type {\n",
       "        vertical-align: middle;\n",
       "    }\n",
       "\n",
       "    .dataframe tbody tr th {\n",
       "        vertical-align: top;\n",
       "    }\n",
       "\n",
       "    .dataframe thead th {\n",
       "        text-align: right;\n",
       "    }\n",
       "</style>\n",
       "<table border=\"1\" class=\"dataframe\">\n",
       "  <thead>\n",
       "    <tr style=\"text-align: right;\">\n",
       "      <th></th>\n",
       "      <th>rn</th>\n",
       "      <th>tBodyAcc.mean.X</th>\n",
       "      <th>tBodyAcc.mean.Y</th>\n",
       "      <th>tBodyAcc.mean.Z</th>\n",
       "      <th>tBodyAcc.std.X</th>\n",
       "      <th>tBodyAcc.std.Y</th>\n",
       "      <th>tBodyAcc.std.Z</th>\n",
       "      <th>tBodyAcc.mad.X</th>\n",
       "      <th>tBodyAcc.mad.Y</th>\n",
       "      <th>tBodyAcc.mad.Z</th>\n",
       "      <th>...</th>\n",
       "      <th>fBodyBodyGyroJerkMag.meanFreq</th>\n",
       "      <th>fBodyBodyGyroJerkMag.skewness</th>\n",
       "      <th>fBodyBodyGyroJerkMag.kurtosis</th>\n",
       "      <th>angle.tBodyAccMean.gravity</th>\n",
       "      <th>angle.tBodyAccJerkMean.gravityMean</th>\n",
       "      <th>angle.tBodyGyroMean.gravityMean</th>\n",
       "      <th>angle.tBodyGyroJerkMean.gravityMean</th>\n",
       "      <th>angle.X.gravityMean</th>\n",
       "      <th>angle.Y.gravityMean</th>\n",
       "      <th>angle.Z.gravityMean</th>\n",
       "    </tr>\n",
       "  </thead>\n",
       "  <tbody>\n",
       "    <tr>\n",
       "      <th>0</th>\n",
       "      <td>7</td>\n",
       "      <td>0.279</td>\n",
       "      <td>-0.0196</td>\n",
       "      <td>-0.1100</td>\n",
       "      <td>-0.997</td>\n",
       "      <td>-0.967</td>\n",
       "      <td>-0.983</td>\n",
       "      <td>-0.997</td>\n",
       "      <td>-0.966</td>\n",
       "      <td>-0.983</td>\n",
       "      <td>...</td>\n",
       "      <td>0.146</td>\n",
       "      <td>-0.217</td>\n",
       "      <td>-0.5640</td>\n",
       "      <td>-0.2130</td>\n",
       "      <td>-0.2310</td>\n",
       "      <td>0.0146</td>\n",
       "      <td>-0.190</td>\n",
       "      <td>-0.852</td>\n",
       "      <td>0.182</td>\n",
       "      <td>-0.0430</td>\n",
       "    </tr>\n",
       "    <tr>\n",
       "      <th>1</th>\n",
       "      <td>11</td>\n",
       "      <td>0.277</td>\n",
       "      <td>-0.0127</td>\n",
       "      <td>-0.1030</td>\n",
       "      <td>-0.995</td>\n",
       "      <td>-0.973</td>\n",
       "      <td>-0.985</td>\n",
       "      <td>-0.996</td>\n",
       "      <td>-0.974</td>\n",
       "      <td>-0.985</td>\n",
       "      <td>...</td>\n",
       "      <td>0.121</td>\n",
       "      <td>0.349</td>\n",
       "      <td>0.0577</td>\n",
       "      <td>0.0807</td>\n",
       "      <td>0.5960</td>\n",
       "      <td>-0.4760</td>\n",
       "      <td>0.116</td>\n",
       "      <td>-0.852</td>\n",
       "      <td>0.188</td>\n",
       "      <td>-0.0347</td>\n",
       "    </tr>\n",
       "    <tr>\n",
       "      <th>2</th>\n",
       "      <td>14</td>\n",
       "      <td>0.277</td>\n",
       "      <td>-0.0147</td>\n",
       "      <td>-0.1070</td>\n",
       "      <td>-0.999</td>\n",
       "      <td>-0.991</td>\n",
       "      <td>-0.993</td>\n",
       "      <td>-0.999</td>\n",
       "      <td>-0.991</td>\n",
       "      <td>-0.992</td>\n",
       "      <td>...</td>\n",
       "      <td>0.740</td>\n",
       "      <td>-0.564</td>\n",
       "      <td>-0.7660</td>\n",
       "      <td>0.1060</td>\n",
       "      <td>-0.0903</td>\n",
       "      <td>-0.1320</td>\n",
       "      <td>0.499</td>\n",
       "      <td>-0.850</td>\n",
       "      <td>0.189</td>\n",
       "      <td>-0.0351</td>\n",
       "    </tr>\n",
       "    <tr>\n",
       "      <th>3</th>\n",
       "      <td>15</td>\n",
       "      <td>0.298</td>\n",
       "      <td>0.0271</td>\n",
       "      <td>-0.0617</td>\n",
       "      <td>-0.989</td>\n",
       "      <td>-0.817</td>\n",
       "      <td>-0.902</td>\n",
       "      <td>-0.989</td>\n",
       "      <td>-0.794</td>\n",
       "      <td>-0.888</td>\n",
       "      <td>...</td>\n",
       "      <td>0.131</td>\n",
       "      <td>0.208</td>\n",
       "      <td>-0.0681</td>\n",
       "      <td>0.0623</td>\n",
       "      <td>-0.0587</td>\n",
       "      <td>0.0312</td>\n",
       "      <td>-0.269</td>\n",
       "      <td>-0.731</td>\n",
       "      <td>0.283</td>\n",
       "      <td>0.0364</td>\n",
       "    </tr>\n",
       "    <tr>\n",
       "      <th>4</th>\n",
       "      <td>20</td>\n",
       "      <td>0.276</td>\n",
       "      <td>-0.0170</td>\n",
       "      <td>-0.1110</td>\n",
       "      <td>-0.998</td>\n",
       "      <td>-0.991</td>\n",
       "      <td>-0.998</td>\n",
       "      <td>-0.998</td>\n",
       "      <td>-0.989</td>\n",
       "      <td>-0.997</td>\n",
       "      <td>...</td>\n",
       "      <td>0.667</td>\n",
       "      <td>-0.942</td>\n",
       "      <td>-0.9660</td>\n",
       "      <td>0.2450</td>\n",
       "      <td>0.1030</td>\n",
       "      <td>0.0661</td>\n",
       "      <td>-0.412</td>\n",
       "      <td>-0.761</td>\n",
       "      <td>0.263</td>\n",
       "      <td>0.0296</td>\n",
       "    </tr>\n",
       "  </tbody>\n",
       "</table>\n",
       "<p>5 rows × 562 columns</p>\n",
       "</div>"
      ],
      "text/plain": [
       "   rn  tBodyAcc.mean.X  tBodyAcc.mean.Y  tBodyAcc.mean.Z  tBodyAcc.std.X  \\\n",
       "0   7            0.279          -0.0196          -0.1100          -0.997   \n",
       "1  11            0.277          -0.0127          -0.1030          -0.995   \n",
       "2  14            0.277          -0.0147          -0.1070          -0.999   \n",
       "3  15            0.298           0.0271          -0.0617          -0.989   \n",
       "4  20            0.276          -0.0170          -0.1110          -0.998   \n",
       "\n",
       "   tBodyAcc.std.Y  tBodyAcc.std.Z  tBodyAcc.mad.X  tBodyAcc.mad.Y  \\\n",
       "0          -0.967          -0.983          -0.997          -0.966   \n",
       "1          -0.973          -0.985          -0.996          -0.974   \n",
       "2          -0.991          -0.993          -0.999          -0.991   \n",
       "3          -0.817          -0.902          -0.989          -0.794   \n",
       "4          -0.991          -0.998          -0.998          -0.989   \n",
       "\n",
       "   tBodyAcc.mad.Z  ...  fBodyBodyGyroJerkMag.meanFreq  \\\n",
       "0          -0.983  ...                          0.146   \n",
       "1          -0.985  ...                          0.121   \n",
       "2          -0.992  ...                          0.740   \n",
       "3          -0.888  ...                          0.131   \n",
       "4          -0.997  ...                          0.667   \n",
       "\n",
       "   fBodyBodyGyroJerkMag.skewness  fBodyBodyGyroJerkMag.kurtosis  \\\n",
       "0                         -0.217                        -0.5640   \n",
       "1                          0.349                         0.0577   \n",
       "2                         -0.564                        -0.7660   \n",
       "3                          0.208                        -0.0681   \n",
       "4                         -0.942                        -0.9660   \n",
       "\n",
       "   angle.tBodyAccMean.gravity  angle.tBodyAccJerkMean.gravityMean  \\\n",
       "0                     -0.2130                             -0.2310   \n",
       "1                      0.0807                              0.5960   \n",
       "2                      0.1060                             -0.0903   \n",
       "3                      0.0623                             -0.0587   \n",
       "4                      0.2450                              0.1030   \n",
       "\n",
       "   angle.tBodyGyroMean.gravityMean  angle.tBodyGyroJerkMean.gravityMean  \\\n",
       "0                           0.0146                               -0.190   \n",
       "1                          -0.4760                                0.116   \n",
       "2                          -0.1320                                0.499   \n",
       "3                           0.0312                               -0.269   \n",
       "4                           0.0661                               -0.412   \n",
       "\n",
       "   angle.X.gravityMean  angle.Y.gravityMean  angle.Z.gravityMean  \n",
       "0               -0.852                0.182              -0.0430  \n",
       "1               -0.852                0.188              -0.0347  \n",
       "2               -0.850                0.189              -0.0351  \n",
       "3               -0.731                0.283               0.0364  \n",
       "4               -0.761                0.263               0.0296  \n",
       "\n",
       "[5 rows x 562 columns]"
      ]
     },
     "execution_count": 7,
     "metadata": {},
     "output_type": "execute_result"
    }
   ],
   "source": [
    "X = df.loc[:,df.columns != 'activity']\n",
    "X.head()"
   ]
  },
  {
   "cell_type": "code",
   "execution_count": 8,
   "metadata": {},
   "outputs": [],
   "source": [
    "y = df[\"activity\"]"
   ]
  },
  {
   "cell_type": "markdown",
   "metadata": {},
   "source": [
    "Encode the activities with LabelEncoder()"
   ]
  },
  {
   "cell_type": "code",
   "execution_count": 89,
   "metadata": {},
   "outputs": [
    {
     "name": "stdout",
     "output_type": "stream",
     "text": [
      "{'LAYING': 0, 'SITTING': 1, 'STANDING': 2, 'WALKING': 3, 'WALKING_DOWNSTAIRS': 4, 'WALKING_UPSTAIRS': 5}\n"
     ]
    },
    {
     "data": {
      "text/plain": [
       "array([2, 2, 2, ..., 5, 5, 4])"
      ]
     },
     "execution_count": 89,
     "metadata": {},
     "output_type": "execute_result"
    }
   ],
   "source": [
    "le=LabelEncoder()\n",
    "y=le.fit_transform(y)\n",
    "le_name_mapping = dict(zip(le.classes_, le.transform(le.classes_)))\n",
    "print(le_name_mapping)\n",
    "y"
   ]
  },
  {
   "cell_type": "markdown",
   "metadata": {},
   "source": [
    "__5.2 Splitting X and y into training and test datasets__ <a id=\"section502\"></a>"
   ]
  },
  {
   "cell_type": "code",
   "execution_count": 9,
   "metadata": {},
   "outputs": [
    {
     "name": "stdout",
     "output_type": "stream",
     "text": [
      "Shape of Train X dataset is (2887, 562)\n",
      "Shape of Train y feature is (2887,)\n",
      "Shape of Test X dataset is (722, 562)\n",
      "Shape of Train y feature is (722,)\n"
     ]
    }
   ],
   "source": [
    "X_train, X_test, y_train, y_test = train_test_split(X, y, test_size=0.20, random_state=1)\n",
    "print(\"Shape of Train X dataset is {}\".format(X_train.shape))\n",
    "print(\"Shape of Train y feature is {}\".format(y_train.shape))\n",
    "print(\"Shape of Test X dataset is {}\".format(X_test.shape))\n",
    "print(\"Shape of Train y feature is {}\".format(y_test.shape))"
   ]
  },
  {
   "cell_type": "markdown",
   "metadata": {},
   "source": [
    "__5.3 Evaluating with Different regression Models__ <a id=\"section403\"></a>"
   ]
  },
  {
   "cell_type": "markdown",
   "metadata": {},
   "source": [
    "I have created different regression models to test and train the data. Models used\n",
    "\n",
    "- Logistic Regression: LogisticRegression()\n",
    "- Decision Tree Classification: DecisionTreeClassifier()\n",
    "- Random Forest Classifier: RandomForestClassifier()\n",
    "- Gradient Boost Classification: GradientBoostingClassifier()\n",
    "- Linear SVM \n",
    "- SVM (Radial)\n",
    "- Naive Bayes\n",
    "- K Nearest Neighbours\n"
   ]
  },
  {
   "cell_type": "code",
   "execution_count": 10,
   "metadata": {},
   "outputs": [],
   "source": [
    "def get_predictions(clf, X_train, y_train, X_test,parameters):\n",
    "    # create classifier\n",
    "    start_time = time.time()\n",
    "    clf = clf\n",
    "    # fit it to training data\n",
    "    clf.fit(X_train,y_train)\n",
    "    # predict using test data\n",
    "    y_pred = clf.predict(X_test)\n",
    "    # Compute predicted probabilities: y_pred_prob\n",
    "    #y_pred_prob = clf.predict_proba(X_test)\n",
    "    \n",
    "    train_pred = clf.predict(X_train)\n",
    "    print('train-set confusion matrix:\\n', confusion_matrix(y_train,train_pred)) \n",
    "    end_time = time.time()\n",
    "    time1 = end_time-start_time\n",
    "    print('training_time(HH:MM:SS.ms) - {}\\n\\n'.format(time1))\n",
    "    \n",
    "    start_time = time.time()\n",
    "    grid_model = GridSearchCV(clf, param_grid=parameters, cv=3, verbose=1, n_jobs=-1)\n",
    "    grid_model.fit(X_train, y_train)   \n",
    "    y_pred_grid = grid_model.predict(X_test)\n",
    "    end_time = time.time()\n",
    "    time2 = end_time-start_time\n",
    "    print('training_time(HH:MM:SS.ms) - {}\\n\\n'.format(time2))\n",
    "    \n",
    "    \n",
    "    return y_pred,y_pred_grid,grid_model\n",
    "\n",
    "def print_scores(y_test,y_pred,y_pred_grid,grid_result):\n",
    "    result = dict()\n",
    "    precision, recall, f_score, _ = error_metric(y_test, y_pred, average = 'weighted')\n",
    "    precision_g, recall_g, f_score_g, _ = error_metric(y_test, y_pred_grid, average = 'weighted')\n",
    "    accuracy = metrics.accuracy_score(y_test,y_pred)\n",
    "    accuracy_g = metrics.accuracy_score(y_test,y_pred_grid)\n",
    "    confusion_m = metrics.confusion_matrix(y_test,y_pred)\n",
    "    confusion_m_g = metrics.confusion_matrix(y_test,y_pred_grid)\n",
    "    classification_report = metrics.classification_report(y_test, y_pred)\n",
    "    classification_report_g = metrics.classification_report(y_test, y_pred_grid)\n",
    "    \n",
    "    fig, axList = plt.subplots(nrows=1, ncols=2)\n",
    "    sns.heatmap(confusion_m, annot=True, ax=axList[0], fmt='d')\n",
    "    axList[0].set(title=\"Model W/O GS\")\n",
    "    sns.heatmap(confusion_m_g, annot=True, ax=axList[1], fmt='d')\n",
    "    axList[1].set(title=\"Model with GS\")\n",
    "    \n",
    "    result[\"precision\"] = precision\n",
    "    result[\"recall\"] = recall\n",
    "    result[\"f1_score\"] = f_score\n",
    "    result[\"accuracy\"] = accuracy\n",
    "    result[\"precision_g\"] = precision_g\n",
    "    result[\"recall_g\"] = recall_g\n",
    "    result[\"f1_score_g\"] = f_score_g\n",
    "    result[\"accuracy_g\"] = accuracy_g\n",
    "    result[\"grid_best_score\"] = grid_result.best_score_\n",
    "    \n",
    "    print(\"++++++++++++++Model Without Grid Search++++++++++++++++++\")\n",
    "    print(classification_report)\n",
    "    print(\"+++++++++++++++++++++++++++++++++++++++++++++++++++++++++\")\n",
    "    print(\"++++++++++++++Model With Grid Search+++++++++++++++++++=+\")\n",
    "    print(classification_report_g)\n",
    "    print(\"+++++++++++++++++++++++++++++++++++++++++++++++++++++++++\")\n",
    "    \n",
    "    return result\n",
    "    #print(\"ROC AUC: {}\".format(metrics.roc_auc_score(y_test, y_pred_prob[:,1])))"
   ]
  },
  {
   "cell_type": "markdown",
   "metadata": {},
   "source": [
    "__Logistic Regression__ "
   ]
  },
  {
   "cell_type": "code",
   "execution_count": 19,
   "metadata": {},
   "outputs": [
    {
     "name": "stderr",
     "output_type": "stream",
     "text": [
      "C:\\DATA\\anaconda3\\lib\\site-packages\\sklearn\\linear_model\\_logistic.py:939: ConvergenceWarning: lbfgs failed to converge (status=1):\n",
      "STOP: TOTAL NO. of ITERATIONS REACHED LIMIT.\n",
      "\n",
      "Increase the number of iterations (max_iter) or scale the data as shown in:\n",
      "    https://scikit-learn.org/stable/modules/preprocessing.html.\n",
      "Please also refer to the documentation for alternative solver options:\n",
      "    https://scikit-learn.org/stable/modules/linear_model.html#logistic-regression\n",
      "  extra_warning_msg=_LOGISTIC_SOLVER_CONVERGENCE_MSG)\n",
      "[Parallel(n_jobs=-1)]: Using backend LokyBackend with 4 concurrent workers.\n"
     ]
    },
    {
     "name": "stdout",
     "output_type": "stream",
     "text": [
      "train-set confusion matrix:\n",
      " [[525   4   0   0   0   0]\n",
      " [  0 412  78   0   0   1]\n",
      " [  0  78 472   0   0   0]\n",
      " [  0   0   0 455  14   8]\n",
      " [  0   0   0   8 372  16]\n",
      " [  0   0   0  11  29 404]]\n",
      "training_time(HH:MM:SS.ms) - 7.418909549713135\n",
      "\n",
      "\n",
      "Fitting 3 folds for each of 12 candidates, totalling 36 fits\n"
     ]
    },
    {
     "name": "stderr",
     "output_type": "stream",
     "text": [
      "[Parallel(n_jobs=-1)]: Done  36 out of  36 | elapsed:  1.1min finished\n",
      "C:\\DATA\\anaconda3\\lib\\site-packages\\sklearn\\linear_model\\_logistic.py:939: ConvergenceWarning: lbfgs failed to converge (status=1):\n",
      "STOP: TOTAL NO. of ITERATIONS REACHED LIMIT.\n",
      "\n",
      "Increase the number of iterations (max_iter) or scale the data as shown in:\n",
      "    https://scikit-learn.org/stable/modules/preprocessing.html.\n",
      "Please also refer to the documentation for alternative solver options:\n",
      "    https://scikit-learn.org/stable/modules/linear_model.html#logistic-regression\n",
      "  extra_warning_msg=_LOGISTIC_SOLVER_CONVERGENCE_MSG)\n"
     ]
    },
    {
     "name": "stdout",
     "output_type": "stream",
     "text": [
      "training_time(HH:MM:SS.ms) - 77.43287491798401\n",
      "\n",
      "\n",
      "++++++++++++++Model Without Grid Search++++++++++++++++++\n",
      "                    precision    recall  f1-score   support\n",
      "\n",
      "            LAYING       0.99      1.00      1.00       152\n",
      "           SITTING       0.84      0.86      0.85       132\n",
      "          STANDING       0.84      0.82      0.83       118\n",
      "           WALKING       0.92      0.96      0.94       126\n",
      "WALKING_DOWNSTAIRS       0.91      0.92      0.91        97\n",
      "  WALKING_UPSTAIRS       0.91      0.86      0.88        97\n",
      "\n",
      "          accuracy                           0.91       722\n",
      "         macro avg       0.90      0.90      0.90       722\n",
      "      weighted avg       0.91      0.91      0.91       722\n",
      "\n",
      "+++++++++++++++++++++++++++++++++++++++++++++++++++++++++\n",
      "++++++++++++++Model With Grid Search+++++++++++++++++++=+\n",
      "                    precision    recall  f1-score   support\n",
      "\n",
      "            LAYING       0.99      1.00      1.00       152\n",
      "           SITTING       0.84      0.86      0.85       132\n",
      "          STANDING       0.84      0.82      0.83       118\n",
      "           WALKING       0.92      0.96      0.94       126\n",
      "WALKING_DOWNSTAIRS       0.91      0.92      0.91        97\n",
      "  WALKING_UPSTAIRS       0.91      0.86      0.88        97\n",
      "\n",
      "          accuracy                           0.91       722\n",
      "         macro avg       0.90      0.90      0.90       722\n",
      "      weighted avg       0.91      0.91      0.91       722\n",
      "\n",
      "+++++++++++++++++++++++++++++++++++++++++++++++++++++++++\n"
     ]
    },
    {
     "data": {
      "image/png": "[encoded data removed]",
      "text/plain": [
       "<Figure size 432x288 with 4 Axes>"
      ]
     },
     "metadata": {
      "needs_background": "light"
     },
     "output_type": "display_data"
    }
   ],
   "source": [
    "parameters = {'C':[0.01, 0.1, 1, 10, 20, 30], 'penalty':['l2','l1']}\n",
    "model = LogisticRegression(fit_intercept=True,max_iter=1000)\n",
    "y_pred,y_pred_grid,grid_model = get_predictions(model, X_train, y_train, X_test,parameters)\n",
    "lr = print_scores(y_test,y_pred,y_pred_grid,grid_model)\n",
    "lr[\"label\"] = \"Logistic Regression\""
   ]
  },
  {
   "cell_type": "code",
   "execution_count": 12,
   "metadata": {},
   "outputs": [
    {
     "data": {
      "text/plain": [
       "{'precision': 0.7854458974133969,\n",
       " 'recall': 0.778393351800554,\n",
       " 'f1_score': 0.7633745070360693,\n",
       " 'accuracy': 0.778393351800554,\n",
       " 'precision_g': 0.7896537715910508,\n",
       " 'recall_g': 0.7811634349030471,\n",
       " 'f1_score_g': 0.7664487354243606,\n",
       " 'accuracy_g': 0.7811634349030471,\n",
       " 'grid_best_score': 0.8143477769645994,\n",
       " 'label': 'Logistic Regression'}"
      ]
     },
     "execution_count": 12,
     "metadata": {},
     "output_type": "execute_result"
    }
   ],
   "source": [
    "lr"
   ]
  },
  {
   "cell_type": "markdown",
   "metadata": {},
   "source": [
    "__Decision Tree Classifier__"
   ]
  },
  {
   "cell_type": "code",
   "execution_count": 13,
   "metadata": {},
   "outputs": [
    {
     "name": "stdout",
     "output_type": "stream",
     "text": [
      "train-set confusion matrix:\n",
      " [[529   0   0   0   0   0]\n",
      " [  0 491   0   0   0   0]\n",
      " [  0   0 550   0   0   0]\n",
      " [  0   0   0 477   0   0]\n",
      " [  0   0   0   0 396   0]\n",
      " [  0   0   0   0   0 444]]\n",
      "training_time(HH:MM:SS.ms) - 1.86260986328125\n",
      "\n",
      "\n",
      "Fitting 3 folds for each of 4 candidates, totalling 12 fits\n"
     ]
    },
    {
     "name": "stderr",
     "output_type": "stream",
     "text": [
      "[Parallel(n_jobs=-1)]: Using backend LokyBackend with 4 concurrent workers.\n",
      "[Parallel(n_jobs=-1)]: Done  12 out of  12 | elapsed:   24.7s finished\n"
     ]
    },
    {
     "name": "stdout",
     "output_type": "stream",
     "text": [
      "training_time(HH:MM:SS.ms) - 26.125422716140747\n",
      "\n",
      "\n",
      "++++++++++++++Model Without Grid Search++++++++++++++++++\n",
      "                    precision    recall  f1-score   support\n",
      "\n",
      "            LAYING       1.00      1.00      1.00       152\n",
      "           SITTING       0.89      0.84      0.86       132\n",
      "          STANDING       0.83      0.88      0.86       118\n",
      "           WALKING       0.93      0.89      0.91       126\n",
      "WALKING_DOWNSTAIRS       0.89      0.88      0.88        97\n",
      "  WALKING_UPSTAIRS       0.82      0.87      0.84        97\n",
      "\n",
      "          accuracy                           0.90       722\n",
      "         macro avg       0.89      0.89      0.89       722\n",
      "      weighted avg       0.90      0.90      0.90       722\n",
      "\n",
      "+++++++++++++++++++++++++++++++++++++++++++++++++++++++++\n",
      "++++++++++++++Model With Grid Search+++++++++++++++++++=+\n",
      "                    precision    recall  f1-score   support\n",
      "\n",
      "            LAYING       1.00      1.00      1.00       152\n",
      "           SITTING       0.89      0.86      0.87       132\n",
      "          STANDING       0.85      0.88      0.86       118\n",
      "           WALKING       0.89      0.89      0.89       126\n",
      "WALKING_DOWNSTAIRS       0.92      0.86      0.89        97\n",
      "  WALKING_UPSTAIRS       0.82      0.88      0.85        97\n",
      "\n",
      "          accuracy                           0.90       722\n",
      "         macro avg       0.89      0.89      0.89       722\n",
      "      weighted avg       0.90      0.90      0.90       722\n",
      "\n",
      "+++++++++++++++++++++++++++++++++++++++++++++++++++++++++\n"
     ]
    },
    {
     "data": {
      "image/png": "[encoded data removed]",
      "text/plain": [
       "<Figure size 432x288 with 4 Axes>"
      ]
     },
     "metadata": {
      "needs_background": "light"
     },
     "output_type": "display_data"
    }
   ],
   "source": [
    "parameters = {'max_depth':np.arange(3,10,2)}\n",
    "y_pred,y_pred_grid,grid_model = get_predictions(DecisionTreeClassifier(random_state =0), X_train, y_train, X_test,parameters)\n",
    "dt = print_scores(y_test,y_pred,y_pred_grid,grid_model)\n",
    "dt[\"label\"] = \"Decision Tree\""
   ]
  },
  {
   "cell_type": "markdown",
   "metadata": {},
   "source": [
    "__Random Forest Claasifier__"
   ]
  },
  {
   "cell_type": "code",
   "execution_count": 15,
   "metadata": {
    "scrolled": true
   },
   "outputs": [
    {
     "name": "stdout",
     "output_type": "stream",
     "text": [
      "train-set confusion matrix:\n",
      " [[529   0   0   0   0   0]\n",
      " [  0 491   0   0   0   0]\n",
      " [  0   0 550   0   0   0]\n",
      " [  0   0   0 477   0   0]\n",
      " [  0   0   0   0 396   0]\n",
      " [  0   0   0   0   0 444]]\n",
      "training_time(HH:MM:SS.ms) - 4.786352872848511\n",
      "\n",
      "\n",
      "Fitting 3 folds for each of 60 candidates, totalling 180 fits\n"
     ]
    },
    {
     "name": "stderr",
     "output_type": "stream",
     "text": [
      "[Parallel(n_jobs=-1)]: Using backend LokyBackend with 4 concurrent workers.\n",
      "[Parallel(n_jobs=-1)]: Done  42 tasks      | elapsed:   21.9s\n",
      "[Parallel(n_jobs=-1)]: Done 180 out of 180 | elapsed:  3.1min finished\n"
     ]
    },
    {
     "name": "stdout",
     "output_type": "stream",
     "text": [
      "training_time(HH:MM:SS.ms) - 193.3941307067871\n",
      "\n",
      "\n",
      "++++++++++++++Model Without Grid Search++++++++++++++++++\n",
      "                    precision    recall  f1-score   support\n",
      "\n",
      "            LAYING       1.00      1.00      1.00       152\n",
      "           SITTING       0.95      0.94      0.94       132\n",
      "          STANDING       0.93      0.94      0.94       118\n",
      "           WALKING       0.98      0.98      0.98       126\n",
      "WALKING_DOWNSTAIRS       0.98      0.95      0.96        97\n",
      "  WALKING_UPSTAIRS       0.95      0.97      0.96        97\n",
      "\n",
      "          accuracy                           0.97       722\n",
      "         macro avg       0.96      0.96      0.96       722\n",
      "      weighted avg       0.97      0.97      0.97       722\n",
      "\n",
      "+++++++++++++++++++++++++++++++++++++++++++++++++++++++++\n",
      "++++++++++++++Model With Grid Search+++++++++++++++++++=+\n",
      "                    precision    recall  f1-score   support\n",
      "\n",
      "            LAYING       1.00      1.00      1.00       152\n",
      "           SITTING       0.94      0.93      0.94       132\n",
      "          STANDING       0.92      0.93      0.93       118\n",
      "           WALKING       0.98      1.00      0.99       126\n",
      "WALKING_DOWNSTAIRS       0.98      0.94      0.96        97\n",
      "  WALKING_UPSTAIRS       0.95      0.96      0.95        97\n",
      "\n",
      "          accuracy                           0.96       722\n",
      "         macro avg       0.96      0.96      0.96       722\n",
      "      weighted avg       0.96      0.96      0.96       722\n",
      "\n",
      "+++++++++++++++++++++++++++++++++++++++++++++++++++++++++\n"
     ]
    },
    {
     "data": {
      "image/png": "[encoded data removed]",
      "text/plain": [
       "<Figure size 432x288 with 4 Axes>"
      ]
     },
     "metadata": {
      "needs_background": "light"
     },
     "output_type": "display_data"
    }
   ],
   "source": [
    "parameters = {'n_estimators': np.arange(10,201,20), 'max_depth':np.arange(3,15,2)}\n",
    "y_pred,y_pred_grid,grid_model = get_predictions(RandomForestClassifier(random_state =0), X_train, y_train, X_test,parameters)\n",
    "rf = print_scores(y_test,y_pred,y_pred_grid,grid_model)\n",
    "rf[\"label\"] = \"Random Forest\""
   ]
  },
  {
   "cell_type": "markdown",
   "metadata": {},
   "source": [
    "__Gradient Boosting Algorithm__"
   ]
  },
  {
   "cell_type": "code",
   "execution_count": 16,
   "metadata": {},
   "outputs": [],
   "source": [
    "# parameters = {'max_depth': np.arange(5,8,1), 'n_estimators':np.arange(130,170,10)}\n",
    "# y_pred,y_pred_grid,grid_model = get_predictions(GradientBoostingClassifier(), X_train, y_train, X_test,parameters)\n",
    "# gb = print_scores(y_test,y_pred,y_pred_grid,grid_model)\n",
    "# gb[\"label\"] = \"Gradient Boosting\""
   ]
  },
  {
   "cell_type": "markdown",
   "metadata": {},
   "source": [
    "__Naive Bayes Model__"
   ]
  },
  {
   "cell_type": "code",
   "execution_count": 17,
   "metadata": {},
   "outputs": [
    {
     "name": "stdout",
     "output_type": "stream",
     "text": [
      "train-set confusion matrix:\n",
      " [[528   0   0   0   0   1]\n",
      " [  3 271 216   0   0   1]\n",
      " [  0   7 542   0   0   1]\n",
      " [  0   0   0 332  49  96]\n",
      " [  0   0   0  42 290  64]\n",
      " [  0   0   0  12  26 406]]\n",
      "training_time(HH:MM:SS.ms) - 0.529289960861206\n",
      "\n",
      "\n",
      "Fitting 3 folds for each of 5 candidates, totalling 15 fits\n"
     ]
    },
    {
     "name": "stderr",
     "output_type": "stream",
     "text": [
      "[Parallel(n_jobs=-1)]: Using backend LokyBackend with 4 concurrent workers.\n",
      "[Parallel(n_jobs=-1)]: Done  15 out of  15 | elapsed:    1.7s finished\n"
     ]
    },
    {
     "name": "stdout",
     "output_type": "stream",
     "text": [
      "training_time(HH:MM:SS.ms) - 2.089850664138794\n",
      "\n",
      "\n",
      "++++++++++++++Model Without Grid Search++++++++++++++++++\n",
      "                    precision    recall  f1-score   support\n",
      "\n",
      "            LAYING       0.99      1.00      1.00       152\n",
      "           SITTING       0.96      0.56      0.71       132\n",
      "          STANDING       0.67      0.97      0.79       118\n",
      "           WALKING       0.87      0.72      0.79       126\n",
      "WALKING_DOWNSTAIRS       0.88      0.71      0.79        97\n",
      "  WALKING_UPSTAIRS       0.66      0.93      0.77        97\n",
      "\n",
      "          accuracy                           0.82       722\n",
      "         macro avg       0.84      0.82      0.81       722\n",
      "      weighted avg       0.85      0.82      0.82       722\n",
      "\n",
      "+++++++++++++++++++++++++++++++++++++++++++++++++++++++++\n",
      "++++++++++++++Model With Grid Search+++++++++++++++++++=+\n",
      "                    precision    recall  f1-score   support\n",
      "\n",
      "            LAYING       0.99      1.00      1.00       152\n",
      "           SITTING       0.97      0.44      0.60       132\n",
      "          STANDING       0.62      0.98      0.76       118\n",
      "           WALKING       0.79      0.78      0.78       126\n",
      "WALKING_DOWNSTAIRS       0.90      0.56      0.69        97\n",
      "  WALKING_UPSTAIRS       0.66      0.93      0.77        97\n",
      "\n",
      "          accuracy                           0.79       722\n",
      "         macro avg       0.82      0.78      0.77       722\n",
      "      weighted avg       0.83      0.79      0.78       722\n",
      "\n",
      "+++++++++++++++++++++++++++++++++++++++++++++++++++++++++\n"
     ]
    },
    {
     "data": {
      "image/png": "[encoded data removed]",
      "text/plain": [
       "<Figure size 432x288 with 4 Axes>"
      ]
     },
     "metadata": {
      "needs_background": "light"
     },
     "output_type": "display_data"
    }
   ],
   "source": [
    "parameters = {'var_smoothing':[0.1,0.01,0.001,0.00001,0.0000001]}\n",
    "model = GaussianNB()\n",
    "y_pred,y_pred_grid,grid_model = get_predictions(model, X_train, y_train, X_test,parameters)\n",
    "nb = print_scores(y_test,y_pred,y_pred_grid,grid_model)\n",
    "nb[\"label\"] = \"Naive Bayes\""
   ]
  },
  {
   "cell_type": "markdown",
   "metadata": {},
   "source": [
    "__Liner SVC__"
   ]
  },
  {
   "cell_type": "code",
   "execution_count": 18,
   "metadata": {},
   "outputs": [
    {
     "name": "stderr",
     "output_type": "stream",
     "text": [
      "C:\\DATA\\anaconda3\\lib\\site-packages\\sklearn\\svm\\_base.py:947: ConvergenceWarning: Liblinear failed to converge, increase the number of iterations.\n",
      "  \"the number of iterations.\", ConvergenceWarning)\n",
      "[Parallel(n_jobs=-1)]: Using backend LokyBackend with 4 concurrent workers.\n"
     ]
    },
    {
     "name": "stdout",
     "output_type": "stream",
     "text": [
      "train-set confusion matrix:\n",
      " [[515  14   0   0   0   0]\n",
      " [  4 447  36   0   0   4]\n",
      " [  0 412 137   0   0   1]\n",
      " [  0 255   0 117  28  77]\n",
      " [  0  88   0   0 292  16]\n",
      " [  0 115   0   0  15 314]]\n",
      "training_time(HH:MM:SS.ms) - 39.94037580490112\n",
      "\n",
      "\n",
      "Fitting 3 folds for each of 6 candidates, totalling 18 fits\n"
     ]
    },
    {
     "name": "stderr",
     "output_type": "stream",
     "text": [
      "[Parallel(n_jobs=-1)]: Done  18 out of  18 | elapsed:  3.6min finished\n",
      "C:\\DATA\\anaconda3\\lib\\site-packages\\sklearn\\svm\\_base.py:947: ConvergenceWarning: Liblinear failed to converge, increase the number of iterations.\n",
      "  \"the number of iterations.\", ConvergenceWarning)\n"
     ]
    },
    {
     "name": "stdout",
     "output_type": "stream",
     "text": [
      "training_time(HH:MM:SS.ms) - 278.13004517555237\n",
      "\n",
      "\n",
      "++++++++++++++Model Without Grid Search++++++++++++++++++\n",
      "                    precision    recall  f1-score   support\n",
      "\n",
      "            LAYING       0.98      0.96      0.97       152\n",
      "           SITTING       0.39      0.94      0.55       132\n",
      "          STANDING       0.89      0.33      0.48       118\n",
      "           WALKING       1.00      0.23      0.37       126\n",
      "WALKING_DOWNSTAIRS       0.90      0.72      0.80        97\n",
      "  WALKING_UPSTAIRS       0.73      0.76      0.74        97\n",
      "\n",
      "          accuracy                           0.67       722\n",
      "         macro avg       0.81      0.66      0.65       722\n",
      "      weighted avg       0.81      0.67      0.66       722\n",
      "\n",
      "+++++++++++++++++++++++++++++++++++++++++++++++++++++++++\n",
      "++++++++++++++Model With Grid Search+++++++++++++++++++=+\n",
      "                    precision    recall  f1-score   support\n",
      "\n",
      "            LAYING       0.97      0.99      0.98       152\n",
      "           SITTING       0.83      0.45      0.59       132\n",
      "          STANDING       0.64      0.87      0.74       118\n",
      "           WALKING       1.00      0.19      0.32       126\n",
      "WALKING_DOWNSTAIRS       0.91      0.69      0.78        97\n",
      "  WALKING_UPSTAIRS       0.40      0.98      0.57        97\n",
      "\n",
      "          accuracy                           0.69       722\n",
      "         macro avg       0.79      0.70      0.66       722\n",
      "      weighted avg       0.81      0.69      0.67       722\n",
      "\n",
      "+++++++++++++++++++++++++++++++++++++++++++++++++++++++++\n"
     ]
    },
    {
     "data": {
      "image/png": "[encoded data removed]",
      "text/plain": [
       "<Figure size 432x288 with 4 Axes>"
      ]
     },
     "metadata": {
      "needs_background": "light"
     },
     "output_type": "display_data"
    }
   ],
   "source": [
    "parameters = {'C':[0.125, 0.5, 1, 2, 8, 16]}\n",
    "y_pred,y_pred_grid,grid_model = get_predictions(LinearSVC(tol=0.00005), X_train, y_train, X_test,parameters)\n",
    "lsvc = print_scores(y_test,y_pred,y_pred_grid,grid_model)\n",
    "lsvc[\"label\"] = \"Linear SVC\""
   ]
  },
  {
   "cell_type": "markdown",
   "metadata": {},
   "source": [
    "__Kernel SVM__ "
   ]
  },
  {
   "cell_type": "code",
   "execution_count": 21,
   "metadata": {},
   "outputs": [
    {
     "name": "stdout",
     "output_type": "stream",
     "text": [
      "train-set confusion matrix:\n",
      " [[101   0 347  81   0   0]\n",
      " [ 71   0 340  80   0   0]\n",
      " [ 75   0 376  99   0   0]\n",
      " [ 78   0 305  94   0   0]\n",
      " [ 70   0 261  65   0   0]\n",
      " [ 72   0 297  75   0   0]]\n",
      "training_time(HH:MM:SS.ms) - 23.821752548217773\n",
      "\n",
      "\n",
      "Fitting 3 folds for each of 9 candidates, totalling 27 fits\n"
     ]
    },
    {
     "name": "stderr",
     "output_type": "stream",
     "text": [
      "[Parallel(n_jobs=-1)]: Using backend LokyBackend with 4 concurrent workers.\n",
      "[Parallel(n_jobs=-1)]: Done  27 out of  27 | elapsed:  1.7min finished\n"
     ]
    },
    {
     "name": "stdout",
     "output_type": "stream",
     "text": [
      "training_time(HH:MM:SS.ms) - 116.9753680229187\n",
      "\n",
      "\n"
     ]
    },
    {
     "name": "stderr",
     "output_type": "stream",
     "text": [
      "C:\\DATA\\anaconda3\\lib\\site-packages\\sklearn\\metrics\\_classification.py:1268: UndefinedMetricWarning: Precision and F-score are ill-defined and being set to 0.0 in labels with no predicted samples. Use `zero_division` parameter to control this behavior.\n",
      "  _warn_prf(average, modifier, msg_start, len(result))\n"
     ]
    },
    {
     "name": "stdout",
     "output_type": "stream",
     "text": [
      "++++++++++++++Model Without Grid Search++++++++++++++++++\n",
      "                    precision    recall  f1-score   support\n",
      "\n",
      "            LAYING       0.19      0.14      0.17       152\n",
      "           SITTING       0.00      0.00      0.00       132\n",
      "          STANDING       0.17      0.67      0.27       118\n",
      "           WALKING       0.16      0.17      0.17       126\n",
      "WALKING_DOWNSTAIRS       0.00      0.00      0.00        97\n",
      "  WALKING_UPSTAIRS       0.00      0.00      0.00        97\n",
      "\n",
      "          accuracy                           0.17       722\n",
      "         macro avg       0.09      0.16      0.10       722\n",
      "      weighted avg       0.10      0.17      0.11       722\n",
      "\n",
      "+++++++++++++++++++++++++++++++++++++++++++++++++++++++++\n",
      "++++++++++++++Model With Grid Search+++++++++++++++++++=+\n",
      "                    precision    recall  f1-score   support\n",
      "\n",
      "            LAYING       0.98      0.97      0.98       152\n",
      "           SITTING       0.96      0.98      0.97       132\n",
      "          STANDING       0.99      0.97      0.98       118\n",
      "           WALKING       0.98      1.00      0.99       126\n",
      "WALKING_DOWNSTAIRS       0.97      0.96      0.96        97\n",
      "  WALKING_UPSTAIRS       0.98      0.97      0.97        97\n",
      "\n",
      "          accuracy                           0.98       722\n",
      "         macro avg       0.98      0.97      0.97       722\n",
      "      weighted avg       0.98      0.98      0.98       722\n",
      "\n",
      "+++++++++++++++++++++++++++++++++++++++++++++++++++++++++\n"
     ]
    },
    {
     "data": {
      "image/png": "[encoded data removed]",
      "text/plain": [
       "<Figure size 432x288 with 4 Axes>"
      ]
     },
     "metadata": {
      "needs_background": "light"
     },
     "output_type": "display_data"
    }
   ],
   "source": [
    "parameters = {'C':[2,8,16],'gamma': [ 0.0078125, 0.125, 2]}\n",
    "model = SVC(kernel='rbf')\n",
    "y_pred,y_pred_grid,grid_model = get_predictions(model, X_train, y_train, X_test,parameters)\n",
    "svc = print_scores(y_test,y_pred,y_pred_grid,grid_model)\n",
    "svc[\"label\"] = \"Kernel SVC\""
   ]
  },
  {
   "cell_type": "markdown",
   "metadata": {},
   "source": [
    "__K Nearest Neighbours__"
   ]
  },
  {
   "cell_type": "code",
   "execution_count": 20,
   "metadata": {},
   "outputs": [
    {
     "name": "stdout",
     "output_type": "stream",
     "text": [
      "train-set confusion matrix:\n",
      " [[509  15   0   5   0   0]\n",
      " [ 16 452  23   0   0   0]\n",
      " [  0  11 531   0   0   8]\n",
      " [  5   0   0 455  17   0]\n",
      " [  0   0   3  21 335  37]\n",
      " [  0   0   8   0  28 408]]\n",
      "training_time(HH:MM:SS.ms) - 1.317781686782837\n",
      "\n",
      "\n",
      "Fitting 3 folds for each of 16 candidates, totalling 48 fits\n"
     ]
    },
    {
     "name": "stderr",
     "output_type": "stream",
     "text": [
      "[Parallel(n_jobs=-1)]: Using backend LokyBackend with 4 concurrent workers.\n",
      "[Parallel(n_jobs=-1)]: Done  48 out of  48 | elapsed:   23.9s finished\n"
     ]
    },
    {
     "name": "stdout",
     "output_type": "stream",
     "text": [
      "training_time(HH:MM:SS.ms) - 24.773667573928833\n",
      "\n",
      "\n",
      "++++++++++++++Model Without Grid Search++++++++++++++++++\n",
      "                    precision    recall  f1-score   support\n",
      "\n",
      "            LAYING       0.92      0.91      0.91       152\n",
      "           SITTING       0.86      0.89      0.88       132\n",
      "          STANDING       0.91      0.91      0.91       118\n",
      "           WALKING       0.90      0.96      0.93       126\n",
      "WALKING_DOWNSTAIRS       0.85      0.70      0.77        97\n",
      "  WALKING_UPSTAIRS       0.81      0.86      0.83        97\n",
      "\n",
      "          accuracy                           0.88       722\n",
      "         macro avg       0.87      0.87      0.87       722\n",
      "      weighted avg       0.88      0.88      0.88       722\n",
      "\n",
      "+++++++++++++++++++++++++++++++++++++++++++++++++++++++++\n",
      "++++++++++++++Model With Grid Search+++++++++++++++++++=+\n",
      "                    precision    recall  f1-score   support\n",
      "\n",
      "            LAYING       0.93      0.91      0.92       152\n",
      "           SITTING       0.87      0.90      0.88       132\n",
      "          STANDING       0.93      0.92      0.93       118\n",
      "           WALKING       0.91      0.98      0.94       126\n",
      "WALKING_DOWNSTAIRS       0.85      0.79      0.82        97\n",
      "  WALKING_UPSTAIRS       0.87      0.84      0.85        97\n",
      "\n",
      "          accuracy                           0.90       722\n",
      "         macro avg       0.89      0.89      0.89       722\n",
      "      weighted avg       0.90      0.90      0.90       722\n",
      "\n",
      "+++++++++++++++++++++++++++++++++++++++++++++++++++++++++\n"
     ]
    },
    {
     "data": {
      "image/png": "[encoded data removed]",
      "text/plain": [
       "<Figure size 432x288 with 4 Axes>"
      ]
     },
     "metadata": {
      "needs_background": "light"
     },
     "output_type": "display_data"
    }
   ],
   "source": [
    "knn = KNeighborsClassifier(n_neighbors=7, p=2, metric='minkowski')\n",
    "parameters = {'n_neighbors':[5,7,9,11],'p':[2,3,4,10]}\n",
    "y_pred,y_pred_grid,grid_model = get_predictions(knn, X_train, y_train, X_test,parameters)\n",
    "knn = print_scores(y_test,y_pred,y_pred_grid,grid_model)\n",
    "knn[\"label\"] = \"KNN\""
   ]
  },
  {
   "cell_type": "markdown",
   "metadata": {},
   "source": [
    "## 6.Model Evaluation <a id=\"section6\"></a>"
   ]
  },
  {
   "cell_type": "code",
   "execution_count": 24,
   "metadata": {},
   "outputs": [
    {
     "data": {
      "image/png": "[encoded data removed]",
      "text/plain": [
       "<Figure size 1080x360 with 2 Axes>"
      ]
     },
     "metadata": {
      "needs_background": "light"
     },
     "output_type": "display_data"
    }
   ],
   "source": [
    "model_arr = [lr,dt,rf,nb,lsvc,svc,knn]     #Model result without gridsearch CV \n",
    "# Evaluation dictionary\n",
    "\n",
    "def evaluate_models(model_arr=[]):\n",
    "    evaluation_dict = {\"precision\":[],\"recall\": [],\"f1_score\":[],'accuracy':[],'precision_g':[],\"recall_g\": [],\n",
    "                       'f1_score_g':[],'accuracy_g':[],'grid_best_score':[],'label':[]}\n",
    "    for m in model_arr:\n",
    "        evaluation_dict[\"label\"].append(m[\"label\"])\n",
    "        evaluation_dict[\"precision\"].append(m[\"precision\"])\n",
    "        evaluation_dict[\"recall\"].append(m[\"recall\"])\n",
    "        evaluation_dict[\"f1_score\"].append(m[\"f1_score\"])\n",
    "        evaluation_dict[\"accuracy\"].append(m[\"accuracy\"])\n",
    "        evaluation_dict[\"precision_g\"].append(m[\"precision_g\"])\n",
    "        evaluation_dict[\"recall_g\"].append(m[\"recall_g\"])\n",
    "        evaluation_dict[\"f1_score_g\"].append(m[\"f1_score_g\"])\n",
    "        evaluation_dict[\"accuracy_g\"].append(m[\"accuracy_g\"])\n",
    "        evaluation_dict[\"grid_best_score\"].append(m[\"grid_best_score\"])\n",
    "\n",
    "    # create a dataset out of evalution dictioanry \n",
    "    df_eval = pd.DataFrame.from_dict(evaluation_dict)\n",
    "    df_eval = df_eval.sort_values(by=['accuracy','accuracy_g'],ascending=False)   #Sort dataframe based on highest accuracy\n",
    "    df_eval_gs = df_eval.sort_values(by=['accuracy_g','accuracy'],ascending=False)\n",
    "\n",
    "    f, axes = plt.subplots(1, 2, figsize=(15,5)) \n",
    "    sns.despine(left=True)\n",
    "    axes[0].set(title=\"Model Without Grid Search\")\n",
    "    sns.barplot(x='accuracy', y='label', data=df_eval,ax=axes[0])\n",
    "    axes[1].set(title=\"Model With Grid Search\")\n",
    "    sns.barplot(x='accuracy_g', y='label', data=df_eval_gs,ax=axes[1])\n",
    "    return df_eval,df_eval_gs\n",
    "df_eval,df_eval_gs= evaluate_models(model_arr)"
   ]
  },
  {
   "cell_type": "code",
   "execution_count": 25,
   "metadata": {},
   "outputs": [
    {
     "data": {
      "text/html": [
       "<div>\n",
       "<style scoped>\n",
       "    .dataframe tbody tr th:only-of-type {\n",
       "        vertical-align: middle;\n",
       "    }\n",
       "\n",
       "    .dataframe tbody tr th {\n",
       "        vertical-align: top;\n",
       "    }\n",
       "\n",
       "    .dataframe thead th {\n",
       "        text-align: right;\n",
       "    }\n",
       "</style>\n",
       "<table border=\"1\" class=\"dataframe\">\n",
       "  <thead>\n",
       "    <tr style=\"text-align: right;\">\n",
       "      <th></th>\n",
       "      <th>precision</th>\n",
       "      <th>recall</th>\n",
       "      <th>f1_score</th>\n",
       "      <th>accuracy</th>\n",
       "      <th>precision_g</th>\n",
       "      <th>recall_g</th>\n",
       "      <th>f1_score_g</th>\n",
       "      <th>accuracy_g</th>\n",
       "      <th>grid_best_score</th>\n",
       "      <th>label</th>\n",
       "    </tr>\n",
       "  </thead>\n",
       "  <tbody>\n",
       "    <tr>\n",
       "      <th>2</th>\n",
       "      <td>0.965477</td>\n",
       "      <td>0.965374</td>\n",
       "      <td>0.965372</td>\n",
       "      <td>0.965374</td>\n",
       "      <td>0.962672</td>\n",
       "      <td>0.962604</td>\n",
       "      <td>0.962549</td>\n",
       "      <td>0.962604</td>\n",
       "      <td>0.961898</td>\n",
       "      <td>Random Forest</td>\n",
       "    </tr>\n",
       "    <tr>\n",
       "      <th>0</th>\n",
       "      <td>0.906920</td>\n",
       "      <td>0.907202</td>\n",
       "      <td>0.906841</td>\n",
       "      <td>0.907202</td>\n",
       "      <td>0.906920</td>\n",
       "      <td>0.907202</td>\n",
       "      <td>0.906841</td>\n",
       "      <td>0.907202</td>\n",
       "      <td>0.912721</td>\n",
       "      <td>Logistic Regression</td>\n",
       "    </tr>\n",
       "    <tr>\n",
       "      <th>1</th>\n",
       "      <td>0.898909</td>\n",
       "      <td>0.897507</td>\n",
       "      <td>0.897805</td>\n",
       "      <td>0.897507</td>\n",
       "      <td>0.900215</td>\n",
       "      <td>0.898892</td>\n",
       "      <td>0.899128</td>\n",
       "      <td>0.898892</td>\n",
       "      <td>0.904053</td>\n",
       "      <td>Decision Tree</td>\n",
       "    </tr>\n",
       "    <tr>\n",
       "      <th>6</th>\n",
       "      <td>0.879397</td>\n",
       "      <td>0.879501</td>\n",
       "      <td>0.878170</td>\n",
       "      <td>0.879501</td>\n",
       "      <td>0.897158</td>\n",
       "      <td>0.897507</td>\n",
       "      <td>0.896896</td>\n",
       "      <td>0.897507</td>\n",
       "      <td>0.820923</td>\n",
       "      <td>KNN</td>\n",
       "    </tr>\n",
       "    <tr>\n",
       "      <th>3</th>\n",
       "      <td>0.852478</td>\n",
       "      <td>0.818560</td>\n",
       "      <td>0.815708</td>\n",
       "      <td>0.818560</td>\n",
       "      <td>0.833820</td>\n",
       "      <td>0.786704</td>\n",
       "      <td>0.776788</td>\n",
       "      <td>0.786704</td>\n",
       "      <td>0.796676</td>\n",
       "      <td>Naive Bayes</td>\n",
       "    </tr>\n",
       "    <tr>\n",
       "      <th>4</th>\n",
       "      <td>0.814549</td>\n",
       "      <td>0.667590</td>\n",
       "      <td>0.655933</td>\n",
       "      <td>0.667590</td>\n",
       "      <td>0.811581</td>\n",
       "      <td>0.692521</td>\n",
       "      <td>0.672856</td>\n",
       "      <td>0.692521</td>\n",
       "      <td>0.677840</td>\n",
       "      <td>Linear SVC</td>\n",
       "    </tr>\n",
       "    <tr>\n",
       "      <th>5</th>\n",
       "      <td>0.095941</td>\n",
       "      <td>0.170360</td>\n",
       "      <td>0.107813</td>\n",
       "      <td>0.170360</td>\n",
       "      <td>0.975215</td>\n",
       "      <td>0.975069</td>\n",
       "      <td>0.975060</td>\n",
       "      <td>0.975069</td>\n",
       "      <td>0.930036</td>\n",
       "      <td>Kernel SVC</td>\n",
       "    </tr>\n",
       "  </tbody>\n",
       "</table>\n",
       "</div>"
      ],
      "text/plain": [
       "   precision    recall  f1_score  accuracy  precision_g  recall_g  f1_score_g  \\\n",
       "2   0.965477  0.965374  0.965372  0.965374     0.962672  0.962604    0.962549   \n",
       "0   0.906920  0.907202  0.906841  0.907202     0.906920  0.907202    0.906841   \n",
       "1   0.898909  0.897507  0.897805  0.897507     0.900215  0.898892    0.899128   \n",
       "6   0.879397  0.879501  0.878170  0.879501     0.897158  0.897507    0.896896   \n",
       "3   0.852478  0.818560  0.815708  0.818560     0.833820  0.786704    0.776788   \n",
       "4   0.814549  0.667590  0.655933  0.667590     0.811581  0.692521    0.672856   \n",
       "5   0.095941  0.170360  0.107813  0.170360     0.975215  0.975069    0.975060   \n",
       "\n",
       "   accuracy_g  grid_best_score                label  \n",
       "2    0.962604         0.961898        Random Forest  \n",
       "0    0.907202         0.912721  Logistic Regression  \n",
       "1    0.898892         0.904053        Decision Tree  \n",
       "6    0.897507         0.820923                  KNN  \n",
       "3    0.786704         0.796676          Naive Bayes  \n",
       "4    0.692521         0.677840           Linear SVC  \n",
       "5    0.975069         0.930036           Kernel SVC  "
      ]
     },
     "execution_count": 25,
     "metadata": {},
     "output_type": "execute_result"
    }
   ],
   "source": [
    "df_eval"
   ]
  },
  {
   "cell_type": "markdown",
   "metadata": {},
   "source": [
    "__Observations:__\n",
    "\n",
    "- Random Forest Classifier is giving best result anomg different models.\n",
    "- It has accuracy close to 96.5%.\n",
    "- Kernl SVC is giving best result with grid search (Hyperparameter Tunig).\n",
    "- It has accuracy close to 97.5%.\n"
   ]
  },
  {
   "cell_type": "markdown",
   "metadata": {},
   "source": [
    "## 7.Feature Selection <a id=\"section7\"></a>"
   ]
  },
  {
   "cell_type": "markdown",
   "metadata": {},
   "source": [
    "Now I have identied which algo is performing better with the dataset. Its time to find which feature I can select to increase the model accuracy. <br>\n",
    "As there is lots of feature (almost 562) is present, It is very hard to identify manully which feature I can choose.<br>\n",
    "I will use one unsupervised methos of feature selction that is know as __VarianceThreshold__. <br>\n",
    "It removes all low-variance features. This feature selection algorithm looks only at the features (X), not the desired outputs (y). <br>"
   ]
  },
  {
   "cell_type": "code",
   "execution_count": 26,
   "metadata": {},
   "outputs": [
    {
     "name": "stdout",
     "output_type": "stream",
     "text": [
      "VarianceThreshold(threshold=0.15999999999999998)\n",
      "(3609, 93)\n"
     ]
    },
    {
     "data": {
      "text/html": [
       "<div>\n",
       "<style scoped>\n",
       "    .dataframe tbody tr th:only-of-type {\n",
       "        vertical-align: middle;\n",
       "    }\n",
       "\n",
       "    .dataframe tbody tr th {\n",
       "        vertical-align: top;\n",
       "    }\n",
       "\n",
       "    .dataframe thead th {\n",
       "        text-align: right;\n",
       "    }\n",
       "</style>\n",
       "<table border=\"1\" class=\"dataframe\">\n",
       "  <thead>\n",
       "    <tr style=\"text-align: right;\">\n",
       "      <th></th>\n",
       "      <th>0</th>\n",
       "      <th>1</th>\n",
       "      <th>2</th>\n",
       "      <th>3</th>\n",
       "      <th>4</th>\n",
       "      <th>5</th>\n",
       "      <th>6</th>\n",
       "      <th>7</th>\n",
       "      <th>8</th>\n",
       "      <th>9</th>\n",
       "      <th>...</th>\n",
       "      <th>83</th>\n",
       "      <th>84</th>\n",
       "      <th>85</th>\n",
       "      <th>86</th>\n",
       "      <th>87</th>\n",
       "      <th>88</th>\n",
       "      <th>89</th>\n",
       "      <th>90</th>\n",
       "      <th>91</th>\n",
       "      <th>92</th>\n",
       "    </tr>\n",
       "  </thead>\n",
       "  <tbody>\n",
       "    <tr>\n",
       "      <th>0</th>\n",
       "      <td>7.0</td>\n",
       "      <td>-0.997</td>\n",
       "      <td>-0.967</td>\n",
       "      <td>-0.997</td>\n",
       "      <td>-0.966</td>\n",
       "      <td>-0.941</td>\n",
       "      <td>-0.987</td>\n",
       "      <td>-0.637</td>\n",
       "      <td>-0.5150</td>\n",
       "      <td>0.968</td>\n",
       "      <td>...</td>\n",
       "      <td>-0.991</td>\n",
       "      <td>-0.988</td>\n",
       "      <td>-0.988</td>\n",
       "      <td>-1.0</td>\n",
       "      <td>-0.736</td>\n",
       "      <td>-0.956</td>\n",
       "      <td>-0.2310</td>\n",
       "      <td>0.0146</td>\n",
       "      <td>-0.190</td>\n",
       "      <td>-0.852</td>\n",
       "    </tr>\n",
       "    <tr>\n",
       "      <th>1</th>\n",
       "      <td>11.0</td>\n",
       "      <td>-0.995</td>\n",
       "      <td>-0.973</td>\n",
       "      <td>-0.996</td>\n",
       "      <td>-0.974</td>\n",
       "      <td>-0.940</td>\n",
       "      <td>-0.988</td>\n",
       "      <td>-0.629</td>\n",
       "      <td>-0.3970</td>\n",
       "      <td>0.969</td>\n",
       "      <td>...</td>\n",
       "      <td>-0.987</td>\n",
       "      <td>-0.983</td>\n",
       "      <td>-0.985</td>\n",
       "      <td>-1.0</td>\n",
       "      <td>-0.641</td>\n",
       "      <td>-0.923</td>\n",
       "      <td>0.5960</td>\n",
       "      <td>-0.4760</td>\n",
       "      <td>0.116</td>\n",
       "      <td>-0.852</td>\n",
       "    </tr>\n",
       "    <tr>\n",
       "      <th>2</th>\n",
       "      <td>14.0</td>\n",
       "      <td>-0.999</td>\n",
       "      <td>-0.991</td>\n",
       "      <td>-0.999</td>\n",
       "      <td>-0.991</td>\n",
       "      <td>-0.943</td>\n",
       "      <td>-0.997</td>\n",
       "      <td>-0.888</td>\n",
       "      <td>-0.5540</td>\n",
       "      <td>0.969</td>\n",
       "      <td>...</td>\n",
       "      <td>-0.995</td>\n",
       "      <td>-0.994</td>\n",
       "      <td>-0.996</td>\n",
       "      <td>-1.0</td>\n",
       "      <td>-1.000</td>\n",
       "      <td>-1.000</td>\n",
       "      <td>-0.0903</td>\n",
       "      <td>-0.1320</td>\n",
       "      <td>0.499</td>\n",
       "      <td>-0.850</td>\n",
       "    </tr>\n",
       "    <tr>\n",
       "      <th>3</th>\n",
       "      <td>15.0</td>\n",
       "      <td>-0.989</td>\n",
       "      <td>-0.817</td>\n",
       "      <td>-0.989</td>\n",
       "      <td>-0.794</td>\n",
       "      <td>-0.926</td>\n",
       "      <td>-0.904</td>\n",
       "      <td>-0.163</td>\n",
       "      <td>0.0546</td>\n",
       "      <td>0.945</td>\n",
       "      <td>...</td>\n",
       "      <td>-0.988</td>\n",
       "      <td>-0.984</td>\n",
       "      <td>-0.989</td>\n",
       "      <td>-1.0</td>\n",
       "      <td>-0.387</td>\n",
       "      <td>-0.923</td>\n",
       "      <td>-0.0587</td>\n",
       "      <td>0.0312</td>\n",
       "      <td>-0.269</td>\n",
       "      <td>-0.731</td>\n",
       "    </tr>\n",
       "    <tr>\n",
       "      <th>4</th>\n",
       "      <td>20.0</td>\n",
       "      <td>-0.998</td>\n",
       "      <td>-0.991</td>\n",
       "      <td>-0.998</td>\n",
       "      <td>-0.989</td>\n",
       "      <td>-0.946</td>\n",
       "      <td>-0.997</td>\n",
       "      <td>-0.806</td>\n",
       "      <td>-0.6610</td>\n",
       "      <td>0.954</td>\n",
       "      <td>...</td>\n",
       "      <td>-1.000</td>\n",
       "      <td>-0.999</td>\n",
       "      <td>-0.999</td>\n",
       "      <td>-1.0</td>\n",
       "      <td>-0.956</td>\n",
       "      <td>-1.000</td>\n",
       "      <td>0.1030</td>\n",
       "      <td>0.0661</td>\n",
       "      <td>-0.412</td>\n",
       "      <td>-0.761</td>\n",
       "    </tr>\n",
       "  </tbody>\n",
       "</table>\n",
       "<p>5 rows × 93 columns</p>\n",
       "</div>"
      ],
      "text/plain": [
       "     0      1      2      3      4      5      6      7       8      9   ...  \\\n",
       "0   7.0 -0.997 -0.967 -0.997 -0.966 -0.941 -0.987 -0.637 -0.5150  0.968  ...   \n",
       "1  11.0 -0.995 -0.973 -0.996 -0.974 -0.940 -0.988 -0.629 -0.3970  0.969  ...   \n",
       "2  14.0 -0.999 -0.991 -0.999 -0.991 -0.943 -0.997 -0.888 -0.5540  0.969  ...   \n",
       "3  15.0 -0.989 -0.817 -0.989 -0.794 -0.926 -0.904 -0.163  0.0546  0.945  ...   \n",
       "4  20.0 -0.998 -0.991 -0.998 -0.989 -0.946 -0.997 -0.806 -0.6610  0.954  ...   \n",
       "\n",
       "      83     84     85   86     87     88      89      90     91     92  \n",
       "0 -0.991 -0.988 -0.988 -1.0 -0.736 -0.956 -0.2310  0.0146 -0.190 -0.852  \n",
       "1 -0.987 -0.983 -0.985 -1.0 -0.641 -0.923  0.5960 -0.4760  0.116 -0.852  \n",
       "2 -0.995 -0.994 -0.996 -1.0 -1.000 -1.000 -0.0903 -0.1320  0.499 -0.850  \n",
       "3 -0.988 -0.984 -0.989 -1.0 -0.387 -0.923 -0.0587  0.0312 -0.269 -0.731  \n",
       "4 -1.000 -0.999 -0.999 -1.0 -0.956 -1.000  0.1030  0.0661 -0.412 -0.761  \n",
       "\n",
       "[5 rows x 93 columns]"
      ]
     },
     "execution_count": 26,
     "metadata": {},
     "output_type": "execute_result"
    }
   ],
   "source": [
    "#Getting the features with high Variance and split the data into train and test\n",
    "low_var = VarianceThreshold(threshold=(0.8 * (1 - 0.8)))\n",
    "print(low_var)\n",
    "X_new = pd.DataFrame(low_var.fit_transform(X))\n",
    "print(X_new.shape)\n",
    "X_new.head()"
   ]
  },
  {
   "cell_type": "markdown",
   "metadata": {},
   "source": [
    "__Observation__ <br>\n",
    "Only 93 features has been selected out of 562.<br><br>\n",
    "\n",
    "#### Divide the data into testing and training set"
   ]
  },
  {
   "cell_type": "code",
   "execution_count": 27,
   "metadata": {},
   "outputs": [
    {
     "name": "stdout",
     "output_type": "stream",
     "text": [
      "Shape of Train X dataset is (2887, 93)\n",
      "Shape of Train y feature is (2887,)\n",
      "Shape of Test X dataset is (722, 93)\n",
      "Shape of Train y feature is (722,)\n"
     ]
    }
   ],
   "source": [
    "X_train_new, X_test_new, y_train_new, y_test_new = train_test_split(X_new, y, test_size=0.20, random_state=1)\n",
    "print(\"Shape of Train X dataset is {}\".format(X_train_new.shape))\n",
    "print(\"Shape of Train y feature is {}\".format(y_train_new.shape))\n",
    "print(\"Shape of Test X dataset is {}\".format(X_test_new.shape))\n",
    "print(\"Shape of Train y feature is {}\".format(y_test_new.shape))"
   ]
  },
  {
   "cell_type": "markdown",
   "metadata": {},
   "source": [
    "#### Rerun the algo to check the accuracy on new dataset\n",
    "I will run the \n",
    "- Random Forest Classifier \n",
    "- Kernel SVM with Grid search hyperparameter tuning.<br>\n",
    "and check the results for any improvement."
   ]
  },
  {
   "cell_type": "code",
   "execution_count": 28,
   "metadata": {},
   "outputs": [
    {
     "name": "stdout",
     "output_type": "stream",
     "text": [
      "train-set confusion matrix:\n",
      " [[529   0   0   0   0   0]\n",
      " [  0 491   0   0   0   0]\n",
      " [  0   0 550   0   0   0]\n",
      " [  0   0   0 477   0   0]\n",
      " [  0   0   0   0 396   0]\n",
      " [  0   0   0   0   0 444]]\n",
      "training_time(HH:MM:SS.ms) - 2.210000991821289\n",
      "\n",
      "\n",
      "Fitting 3 folds for each of 60 candidates, totalling 180 fits\n"
     ]
    },
    {
     "name": "stderr",
     "output_type": "stream",
     "text": [
      "[Parallel(n_jobs=-1)]: Using backend LokyBackend with 4 concurrent workers.\n",
      "[Parallel(n_jobs=-1)]: Done  42 tasks      | elapsed:   32.1s\n",
      "[Parallel(n_jobs=-1)]: Done 180 out of 180 | elapsed:  1.9min finished\n"
     ]
    },
    {
     "name": "stdout",
     "output_type": "stream",
     "text": [
      "training_time(HH:MM:SS.ms) - 114.03772926330566\n",
      "\n",
      "\n",
      "++++++++++++++Model Without Grid Search++++++++++++++++++\n",
      "                    precision    recall  f1-score   support\n",
      "\n",
      "            LAYING       1.00      1.00      1.00       152\n",
      "           SITTING       0.92      0.89      0.91       132\n",
      "          STANDING       0.89      0.92      0.90       118\n",
      "           WALKING       0.98      0.98      0.98       126\n",
      "WALKING_DOWNSTAIRS       0.97      0.92      0.94        97\n",
      "  WALKING_UPSTAIRS       0.93      0.97      0.95        97\n",
      "\n",
      "          accuracy                           0.95       722\n",
      "         macro avg       0.95      0.95      0.95       722\n",
      "      weighted avg       0.95      0.95      0.95       722\n",
      "\n",
      "+++++++++++++++++++++++++++++++++++++++++++++++++++++++++\n",
      "++++++++++++++Model With Grid Search+++++++++++++++++++=+\n",
      "                    precision    recall  f1-score   support\n",
      "\n",
      "            LAYING       1.00      1.00      1.00       152\n",
      "           SITTING       0.91      0.89      0.90       132\n",
      "          STANDING       0.88      0.91      0.90       118\n",
      "           WALKING       0.97      0.99      0.98       126\n",
      "WALKING_DOWNSTAIRS       0.99      0.92      0.95        97\n",
      "  WALKING_UPSTAIRS       0.94      0.98      0.96        97\n",
      "\n",
      "          accuracy                           0.95       722\n",
      "         macro avg       0.95      0.95      0.95       722\n",
      "      weighted avg       0.95      0.95      0.95       722\n",
      "\n",
      "+++++++++++++++++++++++++++++++++++++++++++++++++++++++++\n"
     ]
    },
    {
     "data": {
      "image/png": "[encoded data removed]",
      "text/plain": [
       "<Figure size 432x288 with 4 Axes>"
      ]
     },
     "metadata": {
      "needs_background": "light"
     },
     "output_type": "display_data"
    }
   ],
   "source": [
    "parameters = {'n_estimators': np.arange(10,201,20), 'max_depth':np.arange(3,15,2)}\n",
    "y_pred,y_pred_grid,grid_model = get_predictions(RandomForestClassifier(random_state =0), X_train_new, y_train_new, X_test_new,parameters)\n",
    "rf_new = print_scores(y_test_new,y_pred,y_pred_grid,grid_model)\n",
    "rf_new[\"label\"] = \"Random Forest\""
   ]
  },
  {
   "cell_type": "code",
   "execution_count": 34,
   "metadata": {},
   "outputs": [
    {
     "name": "stdout",
     "output_type": "stream",
     "text": [
      "train-set confusion matrix:\n",
      " [[101   0 347  81   0   0]\n",
      " [ 71   0 341  79   0   0]\n",
      " [ 75   0 376  99   0   0]\n",
      " [ 77   0 306  94   0   0]\n",
      " [ 71   0 260  65   0   0]\n",
      " [ 72   0 297  75   0   0]]\n",
      "training_time(HH:MM:SS.ms) - 15.559455633163452\n",
      "\n",
      "\n",
      "Fitting 3 folds for each of 9 candidates, totalling 27 fits\n"
     ]
    },
    {
     "name": "stderr",
     "output_type": "stream",
     "text": [
      "[Parallel(n_jobs=-1)]: Using backend LokyBackend with 4 concurrent workers.\n",
      "[Parallel(n_jobs=-1)]: Done  27 out of  27 | elapsed:  1.1min finished\n"
     ]
    },
    {
     "name": "stdout",
     "output_type": "stream",
     "text": [
      "training_time(HH:MM:SS.ms) - 77.65585446357727\n",
      "\n",
      "\n"
     ]
    },
    {
     "name": "stderr",
     "output_type": "stream",
     "text": [
      "C:\\DATA\\anaconda3\\lib\\site-packages\\sklearn\\metrics\\_classification.py:1268: UndefinedMetricWarning: Precision and F-score are ill-defined and being set to 0.0 in labels with no predicted samples. Use `zero_division` parameter to control this behavior.\n",
      "  _warn_prf(average, modifier, msg_start, len(result))\n"
     ]
    },
    {
     "name": "stdout",
     "output_type": "stream",
     "text": [
      "++++++++++++++Model Without Grid Search++++++++++++++++++\n",
      "                    precision    recall  f1-score   support\n",
      "\n",
      "            LAYING       0.19      0.14      0.17       152\n",
      "           SITTING       0.00      0.00      0.00       132\n",
      "          STANDING       0.17      0.67      0.27       118\n",
      "           WALKING       0.16      0.17      0.17       126\n",
      "WALKING_DOWNSTAIRS       0.00      0.00      0.00        97\n",
      "  WALKING_UPSTAIRS       0.00      0.00      0.00        97\n",
      "\n",
      "          accuracy                           0.17       722\n",
      "         macro avg       0.09      0.16      0.10       722\n",
      "      weighted avg       0.10      0.17      0.11       722\n",
      "\n",
      "+++++++++++++++++++++++++++++++++++++++++++++++++++++++++\n",
      "++++++++++++++Model With Grid Search+++++++++++++++++++=+\n",
      "                    precision    recall  f1-score   support\n",
      "\n",
      "            LAYING       0.97      0.97      0.97       152\n",
      "           SITTING       0.96      0.98      0.97       132\n",
      "          STANDING       0.99      0.97      0.98       118\n",
      "           WALKING       0.97      0.98      0.98       126\n",
      "WALKING_DOWNSTAIRS       0.94      0.92      0.93        97\n",
      "  WALKING_UPSTAIRS       0.95      0.95      0.95        97\n",
      "\n",
      "          accuracy                           0.96       722\n",
      "         macro avg       0.96      0.96      0.96       722\n",
      "      weighted avg       0.96      0.96      0.96       722\n",
      "\n",
      "+++++++++++++++++++++++++++++++++++++++++++++++++++++++++\n"
     ]
    },
    {
     "data": {
      "image/png": "[encoded data removed]",
      "text/plain": [
       "<Figure size 432x288 with 4 Axes>"
      ]
     },
     "metadata": {
      "needs_background": "light"
     },
     "output_type": "display_data"
    }
   ],
   "source": [
    "parameters = {'C':[2,8,16],'gamma': [ 0.0078125, 0.125, 2]}\n",
    "model = SVC(kernel='rbf',probability=True)\n",
    "y_pred,y_pred_grid,grid_model = get_predictions(model,  X_train_new, y_train_new, X_test_new,parameters)\n",
    "svc_new = print_scores(y_test_new,y_pred,y_pred_grid,grid_model)\n",
    "svc_new[\"label\"] = \"Kernel SVC\""
   ]
  },
  {
   "cell_type": "code",
   "execution_count": 32,
   "metadata": {},
   "outputs": [
    {
     "name": "stderr",
     "output_type": "stream",
     "text": [
      "C:\\DATA\\anaconda3\\lib\\site-packages\\sklearn\\linear_model\\_logistic.py:939: ConvergenceWarning: lbfgs failed to converge (status=1):\n",
      "STOP: TOTAL NO. of ITERATIONS REACHED LIMIT.\n",
      "\n",
      "Increase the number of iterations (max_iter) or scale the data as shown in:\n",
      "    https://scikit-learn.org/stable/modules/preprocessing.html.\n",
      "Please also refer to the documentation for alternative solver options:\n",
      "    https://scikit-learn.org/stable/modules/linear_model.html#logistic-regression\n",
      "  extra_warning_msg=_LOGISTIC_SOLVER_CONVERGENCE_MSG)\n",
      "[Parallel(n_jobs=-1)]: Using backend LokyBackend with 4 concurrent workers.\n"
     ]
    },
    {
     "name": "stdout",
     "output_type": "stream",
     "text": [
      "train-set confusion matrix:\n",
      " [[528   0   0   0   0   1]\n",
      " [  2 399  89   0   0   1]\n",
      " [  0  73 475   1   0   1]\n",
      " [  0   0   0 433   6  38]\n",
      " [  0   0   0  11 365  20]\n",
      " [  0   2   2  20   6 414]]\n",
      "training_time(HH:MM:SS.ms) - 2.778972625732422\n",
      "\n",
      "\n",
      "Fitting 3 folds for each of 12 candidates, totalling 36 fits\n"
     ]
    },
    {
     "name": "stderr",
     "output_type": "stream",
     "text": [
      "[Parallel(n_jobs=-1)]: Done  36 out of  36 | elapsed:   41.9s finished\n",
      "C:\\DATA\\anaconda3\\lib\\site-packages\\sklearn\\linear_model\\_logistic.py:939: ConvergenceWarning: lbfgs failed to converge (status=1):\n",
      "STOP: TOTAL NO. of ITERATIONS REACHED LIMIT.\n",
      "\n",
      "Increase the number of iterations (max_iter) or scale the data as shown in:\n",
      "    https://scikit-learn.org/stable/modules/preprocessing.html.\n",
      "Please also refer to the documentation for alternative solver options:\n",
      "    https://scikit-learn.org/stable/modules/linear_model.html#logistic-regression\n",
      "  extra_warning_msg=_LOGISTIC_SOLVER_CONVERGENCE_MSG)\n"
     ]
    },
    {
     "name": "stdout",
     "output_type": "stream",
     "text": [
      "training_time(HH:MM:SS.ms) - 46.92092561721802\n",
      "\n",
      "\n",
      "++++++++++++++Model Without Grid Search++++++++++++++++++\n",
      "                    precision    recall  f1-score   support\n",
      "\n",
      "            LAYING       0.99      1.00      1.00       152\n",
      "           SITTING       0.81      0.82      0.82       132\n",
      "          STANDING       0.80      0.79      0.79       118\n",
      "           WALKING       0.90      0.89      0.90       126\n",
      "WALKING_DOWNSTAIRS       0.93      0.86      0.89        97\n",
      "  WALKING_UPSTAIRS       0.81      0.90      0.85        97\n",
      "\n",
      "          accuracy                           0.88       722\n",
      "         macro avg       0.88      0.87      0.87       722\n",
      "      weighted avg       0.88      0.88      0.88       722\n",
      "\n",
      "+++++++++++++++++++++++++++++++++++++++++++++++++++++++++\n",
      "++++++++++++++Model With Grid Search+++++++++++++++++++=+\n",
      "                    precision    recall  f1-score   support\n",
      "\n",
      "            LAYING       0.99      1.00      1.00       152\n",
      "           SITTING       0.79      0.79      0.79       132\n",
      "          STANDING       0.76      0.77      0.77       118\n",
      "           WALKING       0.88      0.91      0.90       126\n",
      "WALKING_DOWNSTAIRS       0.95      0.90      0.92        97\n",
      "  WALKING_UPSTAIRS       0.87      0.87      0.87        97\n",
      "\n",
      "          accuracy                           0.88       722\n",
      "         macro avg       0.87      0.87      0.87       722\n",
      "      weighted avg       0.88      0.88      0.88       722\n",
      "\n",
      "+++++++++++++++++++++++++++++++++++++++++++++++++++++++++\n"
     ]
    },
    {
     "data": {
      "image/png": "[encoded data removed]",
      "text/plain": [
       "<Figure size 432x288 with 4 Axes>"
      ]
     },
     "metadata": {
      "needs_background": "light"
     },
     "output_type": "display_data"
    }
   ],
   "source": [
    "parameters = {'C':[0.01, 0.1, 1, 10, 20, 30], 'penalty':['l2','l1']}\n",
    "model = LogisticRegression(fit_intercept=True,max_iter=1000)\n",
    "y_pred,y_pred_grid,grid_model = get_predictions(model,  X_train_new, y_train_new, X_test_new,parameters)\n",
    "lr_new = print_scores(y_test_new,y_pred,y_pred_grid,grid_model)\n",
    "lr_new[\"label\"] = \"Logistic Regression\""
   ]
  },
  {
   "cell_type": "markdown",
   "metadata": {},
   "source": [
    "__Evaluate Model on New data set__"
   ]
  },
  {
   "cell_type": "code",
   "execution_count": 35,
   "metadata": {},
   "outputs": [
    {
     "data": {
      "image/png": "[encoded data removed]",
      "text/plain": [
       "<Figure size 1080x360 with 2 Axes>"
      ]
     },
     "metadata": {
      "needs_background": "light"
     },
     "output_type": "display_data"
    }
   ],
   "source": [
    "df_eval,df_eval_gs= evaluate_models([svc_new,rf_new,lr_new])"
   ]
  },
  {
   "cell_type": "code",
   "execution_count": 36,
   "metadata": {},
   "outputs": [
    {
     "data": {
      "text/html": [
       "<div>\n",
       "<style scoped>\n",
       "    .dataframe tbody tr th:only-of-type {\n",
       "        vertical-align: middle;\n",
       "    }\n",
       "\n",
       "    .dataframe tbody tr th {\n",
       "        vertical-align: top;\n",
       "    }\n",
       "\n",
       "    .dataframe thead th {\n",
       "        text-align: right;\n",
       "    }\n",
       "</style>\n",
       "<table border=\"1\" class=\"dataframe\">\n",
       "  <thead>\n",
       "    <tr style=\"text-align: right;\">\n",
       "      <th></th>\n",
       "      <th>precision</th>\n",
       "      <th>recall</th>\n",
       "      <th>f1_score</th>\n",
       "      <th>accuracy</th>\n",
       "      <th>precision_g</th>\n",
       "      <th>recall_g</th>\n",
       "      <th>f1_score_g</th>\n",
       "      <th>accuracy_g</th>\n",
       "      <th>grid_best_score</th>\n",
       "      <th>label</th>\n",
       "    </tr>\n",
       "  </thead>\n",
       "  <tbody>\n",
       "    <tr>\n",
       "      <th>1</th>\n",
       "      <td>0.949147</td>\n",
       "      <td>0.948753</td>\n",
       "      <td>0.948727</td>\n",
       "      <td>0.948753</td>\n",
       "      <td>0.950615</td>\n",
       "      <td>0.950139</td>\n",
       "      <td>0.950076</td>\n",
       "      <td>0.950139</td>\n",
       "      <td>0.942500</td>\n",
       "      <td>Random Forest</td>\n",
       "    </tr>\n",
       "    <tr>\n",
       "      <th>2</th>\n",
       "      <td>0.880795</td>\n",
       "      <td>0.879501</td>\n",
       "      <td>0.879626</td>\n",
       "      <td>0.879501</td>\n",
       "      <td>0.877044</td>\n",
       "      <td>0.876731</td>\n",
       "      <td>0.876756</td>\n",
       "      <td>0.876731</td>\n",
       "      <td>0.889158</td>\n",
       "      <td>Logistic Regression</td>\n",
       "    </tr>\n",
       "    <tr>\n",
       "      <th>0</th>\n",
       "      <td>0.095640</td>\n",
       "      <td>0.170360</td>\n",
       "      <td>0.107757</td>\n",
       "      <td>0.170360</td>\n",
       "      <td>0.964049</td>\n",
       "      <td>0.963989</td>\n",
       "      <td>0.963946</td>\n",
       "      <td>0.963989</td>\n",
       "      <td>0.916529</td>\n",
       "      <td>Kernel SVC</td>\n",
       "    </tr>\n",
       "  </tbody>\n",
       "</table>\n",
       "</div>"
      ],
      "text/plain": [
       "   precision    recall  f1_score  accuracy  precision_g  recall_g  f1_score_g  \\\n",
       "1   0.949147  0.948753  0.948727  0.948753     0.950615  0.950139    0.950076   \n",
       "2   0.880795  0.879501  0.879626  0.879501     0.877044  0.876731    0.876756   \n",
       "0   0.095640  0.170360  0.107757  0.170360     0.964049  0.963989    0.963946   \n",
       "\n",
       "   accuracy_g  grid_best_score                label  \n",
       "1    0.950139         0.942500        Random Forest  \n",
       "2    0.876731         0.889158  Logistic Regression  \n",
       "0    0.963989         0.916529           Kernel SVC  "
      ]
     },
     "execution_count": 36,
     "metadata": {},
     "output_type": "execute_result"
    }
   ],
   "source": [
    "df_eval"
   ]
  },
  {
   "cell_type": "markdown",
   "metadata": {},
   "source": [
    "__Observation__\n",
    "- For Random forest classifier there is not improvement after feature selection process.\n",
    "- For Kernel SVM also there is not much improvement with Grid Search approach. "
   ]
  },
  {
   "cell_type": "markdown",
   "metadata": {},
   "source": [
    "## 8. Conclusion <a id=\"section8\"></a>"
   ]
  },
  {
   "attachments": {},
   "cell_type": "markdown",
   "metadata": {},
   "source": [
    "- Random Forest Classification without Grid search tuning is the best model to predict the activity on new dataset.\n",
    "- With Grid Search Tuning Kernel SVM is the best model to predict activities.\n",
    "- There is not much improvement after feature selection on both the models."
   ]
  }
 ],
 "metadata": {
  "kernelspec": {
   "display_name": "Python 3",
   "language": "python",
   "name": "python3"
  },
  "language_info": {
   "codemirror_mode": {
    "name": "ipython",
    "version": 3
   },
   "file_extension": ".py",
   "mimetype": "text/x-python",
   "name": "python",
   "nbconvert_exporter": "python",
   "pygments_lexer": "ipython3",
   "version": "3.7.7"
  }
 },
 "nbformat": 4,
 "nbformat_minor": 4
}
